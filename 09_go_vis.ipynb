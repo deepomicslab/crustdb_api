{
 "cells": [
  {
   "cell_type": "markdown",
   "metadata": {},
   "source": [
    "lung: 6'35''"
   ]
  },
  {
   "cell_type": "code",
   "execution_count": 172,
   "metadata": {},
   "outputs": [],
   "source": [
    "import pickle\n",
    "import networkx as nx\n",
    "import numpy as np\n",
    "import pandas as pd\n",
    "# import math\n",
    "# import EoN\n",
    "# import random\n",
    "import pickle\n",
    "from Phage_api import settings_local as local_settings\n",
    "import glob\n",
    "# import gseapy as gp\n",
    "import os.path"
   ]
  },
  {
   "cell_type": "code",
   "execution_count": 173,
   "metadata": {},
   "outputs": [],
   "source": [
    "import importlib.util\n",
    "gseapy=importlib.util.spec_from_file_location(\"gseapy\",\"/home/platform/project/crustdb_platform/crustdb_api/workspace/analysis_script/scripts/cytotopo_reference_package/gseapy/plot.py\")\n",
    "DotPlot = importlib.util.module_from_spec(gseapy)\n",
    "gseapy.loader.exec_module(DotPlot)"
   ]
  },
  {
   "cell_type": "code",
   "execution_count": 174,
   "metadata": {},
   "outputs": [
    {
     "data": {
      "text/plain": [
       "'/home/platform/project/crustdb_platform/crustdb_api/workspace/crustdb_database/topology/'"
      ]
     },
     "execution_count": 174,
     "metadata": {},
     "output_type": "execute_result"
    }
   ],
   "source": [
    "home = local_settings.CRUSTDB_DATABASE+'topology/'\n",
    "home"
   ]
  },
  {
   "cell_type": "code",
   "execution_count": 175,
   "metadata": {},
   "outputs": [],
   "source": [
    "def run_go_analysis(go_df):\n",
    "    result_new = go_df\n",
    "    if result_new.shape[0] > 200:\n",
    "        figsize=False\n",
    "        size = False\n",
    "        top_term=3\n",
    "    else:\n",
    "        figsize = (5,10)\n",
    "        size = 50\n",
    "        top_term = 5\n",
    "\n",
    "    x_key = 'Gene_set'\n",
    "    if not figsize:\n",
    "        figsize = (int(len(result_new[x_key].unique())/3), int(top_term*len(result_new[x_key].unique())/10))\n",
    "    if not size:\n",
    "        size = int(top_term*len(result_new[x_key].unique())/15)\n",
    "\n",
    "    result_new.loc[:,'Term'] = result_new.loc[:,'Term'].str.split('(', expand=True)[0]\n",
    "\n",
    "    cutoff = 0.01\n",
    "    phage1 = True\n",
    "    _check = int(len(result_new[result_new.loc[:,'Adjusted P-value'] <= cutoff][x_key].unique()))\n",
    "    while _check < 3:\n",
    "        # cutoff = cutoff + 0.01\n",
    "        if phage1:\n",
    "            cutoff *= 10\n",
    "        else:\n",
    "            cutoff += 0.01\n",
    "        _check = int(len(result_new[result_new.loc[:,'Adjusted P-value'] <= cutoff][x_key].unique()))\n",
    "        if phage1 and _check >= 3:\n",
    "            cutoff /= 10\n",
    "            phage1 = False\n",
    "        if np.isinf(cutoff):\n",
    "            cutoff = 0.01\n",
    "            break\n",
    "    \n",
    "    dot = DotPlot.DotPlot(\n",
    "        df=result_new,\n",
    "        x='Gene_set',\n",
    "        y='Term',\n",
    "        x_order=False,\n",
    "        y_order=False,\n",
    "        hue=\"Adjusted P-value\",\n",
    "        title=\"title\",\n",
    "        thresh=cutoff,\n",
    "        n_terms=int(top_term),\n",
    "        dot_scale=size,\n",
    "        figsize=figsize,\n",
    "        cmap=\"viridis_r\",\n",
    "        ofname=None,\n",
    "        marker='o',\n",
    "    )\n",
    "    go_info = dot.data[['Gene_set', 'Term', 'p_inv', 'Hits_ratio']]\n",
    "    return go_info"
   ]
  },
  {
   "cell_type": "code",
   "execution_count": 176,
   "metadata": {},
   "outputs": [],
   "source": [
    "def generate_go_info(species, conformation, algo, param):\n",
    "    fname = home+species+'/'+conformation+'/'+algo+'/'+param+'/Go.csv'\n",
    "    if not os.path.isfile(fname):\n",
    "        print('Go.csv does not exist:', fname)\n",
    "        return\n",
    "    go_df = pd.read_csv(fname, index_col=0)\n",
    "    go_info = run_go_analysis(go_df)\n",
    "    go_info.to_csv(home+species+'/'+conformation+'/'+algo+'/'+param+'/Go_result.csv')\n"
   ]
  },
  {
   "cell_type": "markdown",
   "metadata": {},
   "source": [
    "### 应该跑的部分"
   ]
  },
  {
   "cell_type": "code",
   "execution_count": 177,
   "metadata": {},
   "outputs": [],
   "source": [
    "# layer1 = glob.glob(home+'*')\n",
    "# error_entries = []\n",
    "# for _species in layer1:\n",
    "#     species = _species.split('/')[-1]\n",
    "#     if species not in ['Lung']:\n",
    "#         continue\n",
    "#     layer2 = glob.glob(_species+'/*')\n",
    "#     for _conformation in layer2:\n",
    "#         conformation = _conformation.split('/')[-1]\n",
    "#         try:\n",
    "#             for algo in ['1NN', 'KNN', 'KNN_SNN', 'RNN', 'RNN_SNN']:\n",
    "#                 if algo in ['1NN']:\n",
    "#                     param = '/'\n",
    "#                     generate_go_info(species, conformation, algo, param)\n",
    "#                 else:\n",
    "#                     _algo = _conformation + '/' + algo\n",
    "#                     layer3 = glob.glob(_algo + '/*')\n",
    "#                     for _param in layer3:\n",
    "#                         if 'pkl' in _param or 'csv' in _param:\n",
    "#                             continue\n",
    "#                         param = _param.split('/')[-1]\n",
    "#                         generate_go_info(species, conformation, algo, param)\n",
    "#         except:\n",
    "#             print('Error ---> '+species+'/'+conformation+'/'+algo+'/'+param)\n",
    "#             error_entries.append([species, conformation, algo, param])\n",
    "#     print('species ends', species)"
   ]
  },
  {
   "cell_type": "markdown",
   "metadata": {},
   "source": [
    "### 针对本次出错的部分，单独跑的一部分代码（不适用于以后）"
   ]
  },
  {
   "cell_type": "code",
   "execution_count": 178,
   "metadata": {},
   "outputs": [
    {
     "name": "stdout",
     "output_type": "stream",
     "text": [
      "Error ---> Lung/Lung5_Rep1.gem.txt.cell_type.fibroblast_ISV2/1NN//\n",
      "Error ---> Lung/Lung5_Rep3.gem.txt.cell_type.T_CD8_memory_2R7L/1NN//\n"
     ]
    },
    {
     "name": "stdout",
     "output_type": "stream",
     "text": [
      "Error ---> Lung/Lung12.gem.txt.cell_type.tumor_9_RRH9/KNN/5\n",
      "Error ---> Lung/Lung5_Rep2.gem.txt.cell_type.tumor_12_7PVN/1NN//\n",
      "Go.csv does not exist: /home/platform/project/crustdb_platform/crustdb_api/workspace/crustdb_database/topology/Lung/Lung5_Rep2.gem.txt.cell_type.endothelial_7PVN/RNN/0.15/Go.csv\n",
      "Error ---> Lung/Lung5_Rep3.gem.txt.cell_type.tumor_12_2R7L/1NN//\n",
      "Error ---> Lung/Lung5_Rep1.gem.txt.cell_type.tumor_13_ISV2/1NN//\n",
      "Go.csv does not exist: /home/platform/project/crustdb_platform/crustdb_api/workspace/crustdb_database/topology/Lung/Lung13.gem.txt.cell_type.T_CD8_memory_Q6PL/KNN/10/Go.csv\n",
      "Go.csv does not exist: /home/platform/project/crustdb_platform/crustdb_api/workspace/crustdb_database/topology/Lung/Lung13.gem.txt.cell_type.epithelial_Q6PL/KNN/5/Go.csv\n",
      "Go.csv does not exist: /home/platform/project/crustdb_platform/crustdb_api/workspace/crustdb_database/topology/Lung/Lung13.gem.txt.cell_type.tumor_6_Q6PL/KNN_SNN/15/Go.csv\n",
      "Go.csv does not exist: /home/platform/project/crustdb_platform/crustdb_api/workspace/crustdb_database/topology/Lung/Lung9_Rep1.gem.txt.cell_type.epithelial_FCSY/RNN_SNN/0.2/Go.csv\n",
      "Go.csv does not exist: /home/platform/project/crustdb_platform/crustdb_api/workspace/crustdb_database/topology/Lung/Lung9_Rep1.gem.txt.cell_type.NK_FCSY/RNN_SNN/0.15/Go.csv\n",
      "Go.csv does not exist: /home/platform/project/crustdb_platform/crustdb_api/workspace/crustdb_database/topology/Lung/Lung9_Rep2.gem.txt.cell_type.endothelial_HF1K/RNN/0.15/Go.csv\n",
      "Go.csv does not exist: /home/platform/project/crustdb_platform/crustdb_api/workspace/crustdb_database/topology/Lung/Lung9_Rep2.gem.txt.cell_type.monocyte_HF1K/RNN/0.2/Go.csv\n",
      "Go.csv does not exist: /home/platform/project/crustdb_platform/crustdb_api/workspace/crustdb_database/topology/Lung/Lung9_Rep2.gem.txt.cell_type.tumor_13_HF1K/RNN/0.15/Go.csv\n",
      "Go.csv does not exist: /home/platform/project/crustdb_platform/crustdb_api/workspace/crustdb_database/topology/Lung/Lung9_Rep2.gem.txt.cell_type.macrophage_HF1K/RNN/0.1/Go.csv\n",
      "Go.csv does not exist: /home/platform/project/crustdb_platform/crustdb_api/workspace/crustdb_database/topology/Lung/Lung6.gem.txt.cell_type.T_CD8_memory_W682/KNN/10/Go.csv\n",
      "species ends Lung\n"
     ]
    }
   ],
   "source": [
    "error_entries2 = [\n",
    "    \"Lung/Lung5_Rep1.gem.txt.cell_type.fibroblast_ISV2/1NN\",\n",
    "    \"Lung/Lung5_Rep3.gem.txt.cell_type.T_CD8_memory_2R7L/1NN\",\n",
    "    \"Lung/Lung12.gem.txt.cell_type.tumor_9_RRH9/KNN\",\n",
    "    \"Lung/Lung5_Rep2.gem.txt.cell_type.tumor_12_7PVN/1NN\",\n",
    "    \"Lung/Lung5_Rep2.gem.txt.cell_type.endothelial_7PVN/RNN\",\n",
    "    \"Lung/Lung5_Rep3.gem.txt.cell_type.tumor_12_2R7L/1NN\",\n",
    "    \"Lung/Lung5_Rep1.gem.txt.cell_type.tumor_13_ISV2/1NN\",\n",
    "    \"Lung/Lung13.gem.txt.cell_type.T_CD8_memory_Q6PL/KNN\",\n",
    "    \"Lung/Lung13.gem.txt.cell_type.epithelial_Q6PL/KNN\",\n",
    "    \"Lung/Lung13.gem.txt.cell_type.tumor_6_Q6PL/KNN_SNN\",\n",
    "    \"Lung/Lung9_Rep1.gem.txt.cell_type.epithelial_FCSY/RNN_SNN\",\n",
    "    \"Lung/Lung9_Rep1.gem.txt.cell_type.NK_FCSY/RNN_SNN\",\n",
    "    \"Lung/Lung9_Rep2.gem.txt.cell_type.endothelial_HF1K/RNN\",\n",
    "    \"Lung/Lung9_Rep2.gem.txt.cell_type.monocyte_HF1K/RNN\",\n",
    "    \"Lung/Lung9_Rep2.gem.txt.cell_type.tumor_13_HF1K/RNN\",\n",
    "    \"Lung/Lung9_Rep2.gem.txt.cell_type.macrophage_HF1K/RNN\",\n",
    "    \"Lung/Lung6.gem.txt.cell_type.T_CD8_memory_W682/KNN\",\n",
    "]\n",
    "layer1 = glob.glob(home+'*')\n",
    "error_entries = []\n",
    "for _species in layer1:\n",
    "    species = _species.split('/')[-1]\n",
    "    if species not in ['Lung']:\n",
    "        continue\n",
    "    layer2 = glob.glob(_species+'/*')\n",
    "    for _conformation in layer2:\n",
    "        conformation = _conformation.split('/')[-1]\n",
    "        try:\n",
    "            for algo in ['1NN', 'KNN', 'KNN_SNN', 'RNN', 'RNN_SNN']:\n",
    "                if algo in ['1NN']:\n",
    "                    param = '/'\n",
    "                    if species+'/'+conformation+'/'+algo in error_entries2:\n",
    "                        generate_go_info(species, conformation, algo, param)\n",
    "                else:\n",
    "                    _algo = _conformation + '/' + algo\n",
    "                    layer3 = glob.glob(_algo + '/*')\n",
    "                    for _param in layer3:\n",
    "                        if 'pkl' in _param or 'csv' in _param:\n",
    "                            continue\n",
    "                        param = _param.split('/')[-1]\n",
    "                        if species+'/'+conformation+'/'+algo in error_entries2:\n",
    "                            generate_go_info(species, conformation, algo, param)\n",
    "        except:\n",
    "            print('Error ---> '+species+'/'+conformation+'/'+algo+'/'+param)\n",
    "            error_entries.append([species, conformation, algo, param])\n",
    "    print('species ends', species)"
   ]
  },
  {
   "cell_type": "code",
   "execution_count": 179,
   "metadata": {},
   "outputs": [
    {
     "ename": "ValueError",
     "evalue": "Warning: No enrich terms when cutoff = 0.01",
     "output_type": "error",
     "traceback": [
      "\u001b[0;31m---------------------------------------------------------------------------\u001b[0m",
      "\u001b[0;31mValueError\u001b[0m                                Traceback (most recent call last)",
      "Cell \u001b[0;32mIn[179], line 1\u001b[0m\n\u001b[0;32m----> 1\u001b[0m \u001b[43mgenerate_go_info\u001b[49m\u001b[43m(\u001b[49m\u001b[38;5;124;43m'\u001b[39;49m\u001b[38;5;124;43mLung\u001b[39;49m\u001b[38;5;124;43m'\u001b[39;49m\u001b[43m,\u001b[49m\u001b[43m \u001b[49m\u001b[38;5;124;43m'\u001b[39;49m\u001b[38;5;124;43mLung5_Rep2.gem.txt.cell_type.tumor_12_7PVN\u001b[39;49m\u001b[38;5;124;43m'\u001b[39;49m\u001b[43m,\u001b[49m\u001b[43m \u001b[49m\u001b[38;5;124;43m'\u001b[39;49m\u001b[38;5;124;43m1NN\u001b[39;49m\u001b[38;5;124;43m'\u001b[39;49m\u001b[43m,\u001b[49m\u001b[43m \u001b[49m\u001b[38;5;124;43m'\u001b[39;49m\u001b[38;5;124;43m/\u001b[39;49m\u001b[38;5;124;43m'\u001b[39;49m\u001b[43m)\u001b[49m\n",
      "Cell \u001b[0;32mIn[176], line 7\u001b[0m, in \u001b[0;36mgenerate_go_info\u001b[0;34m(species, conformation, algo, param)\u001b[0m\n\u001b[1;32m      5\u001b[0m     \u001b[38;5;28;01mreturn\u001b[39;00m\n\u001b[1;32m      6\u001b[0m go_df \u001b[38;5;241m=\u001b[39m pd\u001b[38;5;241m.\u001b[39mread_csv(fname, index_col\u001b[38;5;241m=\u001b[39m\u001b[38;5;241m0\u001b[39m)\n\u001b[0;32m----> 7\u001b[0m go_info \u001b[38;5;241m=\u001b[39m \u001b[43mrun_go_analysis\u001b[49m\u001b[43m(\u001b[49m\u001b[43mgo_df\u001b[49m\u001b[43m)\u001b[49m\n\u001b[1;32m      8\u001b[0m go_info\u001b[38;5;241m.\u001b[39mto_csv(home\u001b[38;5;241m+\u001b[39mspecies\u001b[38;5;241m+\u001b[39m\u001b[38;5;124m'\u001b[39m\u001b[38;5;124m/\u001b[39m\u001b[38;5;124m'\u001b[39m\u001b[38;5;241m+\u001b[39mconformation\u001b[38;5;241m+\u001b[39m\u001b[38;5;124m'\u001b[39m\u001b[38;5;124m/\u001b[39m\u001b[38;5;124m'\u001b[39m\u001b[38;5;241m+\u001b[39malgo\u001b[38;5;241m+\u001b[39m\u001b[38;5;124m'\u001b[39m\u001b[38;5;124m/\u001b[39m\u001b[38;5;124m'\u001b[39m\u001b[38;5;241m+\u001b[39mparam\u001b[38;5;241m+\u001b[39m\u001b[38;5;124m'\u001b[39m\u001b[38;5;124m/Go_result.csv\u001b[39m\u001b[38;5;124m'\u001b[39m)\n",
      "Cell \u001b[0;32mIn[175], line 37\u001b[0m, in \u001b[0;36mrun_go_analysis\u001b[0;34m(go_df)\u001b[0m\n\u001b[1;32m     34\u001b[0m         cutoff \u001b[38;5;241m=\u001b[39m \u001b[38;5;241m0.01\u001b[39m\n\u001b[1;32m     35\u001b[0m         \u001b[38;5;28;01mbreak\u001b[39;00m\n\u001b[0;32m---> 37\u001b[0m dot \u001b[38;5;241m=\u001b[39m \u001b[43mDotPlot\u001b[49m\u001b[38;5;241;43m.\u001b[39;49m\u001b[43mDotPlot\u001b[49m\u001b[43m(\u001b[49m\n\u001b[1;32m     38\u001b[0m \u001b[43m    \u001b[49m\u001b[43mdf\u001b[49m\u001b[38;5;241;43m=\u001b[39;49m\u001b[43mresult_new\u001b[49m\u001b[43m,\u001b[49m\n\u001b[1;32m     39\u001b[0m \u001b[43m    \u001b[49m\u001b[43mx\u001b[49m\u001b[38;5;241;43m=\u001b[39;49m\u001b[38;5;124;43m'\u001b[39;49m\u001b[38;5;124;43mGene_set\u001b[39;49m\u001b[38;5;124;43m'\u001b[39;49m\u001b[43m,\u001b[49m\n\u001b[1;32m     40\u001b[0m \u001b[43m    \u001b[49m\u001b[43my\u001b[49m\u001b[38;5;241;43m=\u001b[39;49m\u001b[38;5;124;43m'\u001b[39;49m\u001b[38;5;124;43mTerm\u001b[39;49m\u001b[38;5;124;43m'\u001b[39;49m\u001b[43m,\u001b[49m\n\u001b[1;32m     41\u001b[0m \u001b[43m    \u001b[49m\u001b[43mx_order\u001b[49m\u001b[38;5;241;43m=\u001b[39;49m\u001b[38;5;28;43;01mFalse\u001b[39;49;00m\u001b[43m,\u001b[49m\n\u001b[1;32m     42\u001b[0m \u001b[43m    \u001b[49m\u001b[43my_order\u001b[49m\u001b[38;5;241;43m=\u001b[39;49m\u001b[38;5;28;43;01mFalse\u001b[39;49;00m\u001b[43m,\u001b[49m\n\u001b[1;32m     43\u001b[0m \u001b[43m    \u001b[49m\u001b[43mhue\u001b[49m\u001b[38;5;241;43m=\u001b[39;49m\u001b[38;5;124;43m\"\u001b[39;49m\u001b[38;5;124;43mAdjusted P-value\u001b[39;49m\u001b[38;5;124;43m\"\u001b[39;49m\u001b[43m,\u001b[49m\n\u001b[1;32m     44\u001b[0m \u001b[43m    \u001b[49m\u001b[43mtitle\u001b[49m\u001b[38;5;241;43m=\u001b[39;49m\u001b[38;5;124;43m\"\u001b[39;49m\u001b[38;5;124;43mtitle\u001b[39;49m\u001b[38;5;124;43m\"\u001b[39;49m\u001b[43m,\u001b[49m\n\u001b[1;32m     45\u001b[0m \u001b[43m    \u001b[49m\u001b[43mthresh\u001b[49m\u001b[38;5;241;43m=\u001b[39;49m\u001b[43mcutoff\u001b[49m\u001b[43m,\u001b[49m\n\u001b[1;32m     46\u001b[0m \u001b[43m    \u001b[49m\u001b[43mn_terms\u001b[49m\u001b[38;5;241;43m=\u001b[39;49m\u001b[38;5;28;43mint\u001b[39;49m\u001b[43m(\u001b[49m\u001b[43mtop_term\u001b[49m\u001b[43m)\u001b[49m\u001b[43m,\u001b[49m\n\u001b[1;32m     47\u001b[0m \u001b[43m    \u001b[49m\u001b[43mdot_scale\u001b[49m\u001b[38;5;241;43m=\u001b[39;49m\u001b[43msize\u001b[49m\u001b[43m,\u001b[49m\n\u001b[1;32m     48\u001b[0m \u001b[43m    \u001b[49m\u001b[43mfigsize\u001b[49m\u001b[38;5;241;43m=\u001b[39;49m\u001b[43mfigsize\u001b[49m\u001b[43m,\u001b[49m\n\u001b[1;32m     49\u001b[0m \u001b[43m    \u001b[49m\u001b[43mcmap\u001b[49m\u001b[38;5;241;43m=\u001b[39;49m\u001b[38;5;124;43m\"\u001b[39;49m\u001b[38;5;124;43mviridis_r\u001b[39;49m\u001b[38;5;124;43m\"\u001b[39;49m\u001b[43m,\u001b[49m\n\u001b[1;32m     50\u001b[0m \u001b[43m    \u001b[49m\u001b[43mofname\u001b[49m\u001b[38;5;241;43m=\u001b[39;49m\u001b[38;5;28;43;01mNone\u001b[39;49;00m\u001b[43m,\u001b[49m\n\u001b[1;32m     51\u001b[0m \u001b[43m    \u001b[49m\u001b[43mmarker\u001b[49m\u001b[38;5;241;43m=\u001b[39;49m\u001b[38;5;124;43m'\u001b[39;49m\u001b[38;5;124;43mo\u001b[39;49m\u001b[38;5;124;43m'\u001b[39;49m\u001b[43m,\u001b[49m\n\u001b[1;32m     52\u001b[0m \u001b[43m\u001b[49m\u001b[43m)\u001b[49m\n\u001b[1;32m     53\u001b[0m go_info \u001b[38;5;241m=\u001b[39m dot\u001b[38;5;241m.\u001b[39mdata[[\u001b[38;5;124m'\u001b[39m\u001b[38;5;124mGene_set\u001b[39m\u001b[38;5;124m'\u001b[39m, \u001b[38;5;124m'\u001b[39m\u001b[38;5;124mTerm\u001b[39m\u001b[38;5;124m'\u001b[39m, \u001b[38;5;124m'\u001b[39m\u001b[38;5;124mp_inv\u001b[39m\u001b[38;5;124m'\u001b[39m, \u001b[38;5;124m'\u001b[39m\u001b[38;5;124mHits_ratio\u001b[39m\u001b[38;5;124m'\u001b[39m]]\n\u001b[1;32m     54\u001b[0m \u001b[38;5;28;01mreturn\u001b[39;00m go_info\n",
      "File \u001b[0;32m~/project/crustdb_platform/crustdb_api/workspace/analysis_script/scripts/cytotopo_reference_package/gseapy/plot.py:649\u001b[0m, in \u001b[0;36mDotPlot.__init__\u001b[0;34m(self, df, x, y, hue, dot_scale, x_order, y_order, thresh, n_terms, title, figsize, cmap, ofname, **kwargs)\u001b[0m\n\u001b[1;32m    647\u001b[0m \u001b[38;5;28mself\u001b[39m\u001b[38;5;241m.\u001b[39mn_terms \u001b[38;5;241m=\u001b[39m n_terms\n\u001b[1;32m    648\u001b[0m \u001b[38;5;28mself\u001b[39m\u001b[38;5;241m.\u001b[39mthresh \u001b[38;5;241m=\u001b[39m thresh\n\u001b[0;32m--> 649\u001b[0m \u001b[38;5;28mself\u001b[39m\u001b[38;5;241m.\u001b[39mdata \u001b[38;5;241m=\u001b[39m \u001b[38;5;28;43mself\u001b[39;49m\u001b[38;5;241;43m.\u001b[39;49m\u001b[43mprocess\u001b[49m\u001b[43m(\u001b[49m\u001b[43mdf\u001b[49m\u001b[43m)\u001b[49m\n\u001b[1;32m    650\u001b[0m plt\u001b[38;5;241m.\u001b[39mrcParams\u001b[38;5;241m.\u001b[39mupdate({\u001b[38;5;124m\"\u001b[39m\u001b[38;5;124mpdf.fonttype\u001b[39m\u001b[38;5;124m\"\u001b[39m: \u001b[38;5;241m42\u001b[39m, \u001b[38;5;124m\"\u001b[39m\u001b[38;5;124mps.fonttype\u001b[39m\u001b[38;5;124m\"\u001b[39m: \u001b[38;5;241m42\u001b[39m})\n",
      "File \u001b[0;32m~/project/crustdb_platform/crustdb_api/workspace/analysis_script/scripts/cytotopo_reference_package/gseapy/plot.py:674\u001b[0m, in \u001b[0;36mDotPlot.process\u001b[0;34m(self, df)\u001b[0m\n\u001b[1;32m    672\u001b[0m \u001b[38;5;28;01mif\u001b[39;00m df\u001b[38;5;241m.\u001b[39mshape[\u001b[38;5;241m0\u001b[39m] \u001b[38;5;241m<\u001b[39m \u001b[38;5;241m1\u001b[39m:\n\u001b[1;32m    673\u001b[0m     msg \u001b[38;5;241m=\u001b[39m \u001b[38;5;124m\"\u001b[39m\u001b[38;5;124mWarning: No enrich terms when cutoff = \u001b[39m\u001b[38;5;132;01m%s\u001b[39;00m\u001b[38;5;124m\"\u001b[39m \u001b[38;5;241m%\u001b[39m \u001b[38;5;28mself\u001b[39m\u001b[38;5;241m.\u001b[39mthresh\n\u001b[0;32m--> 674\u001b[0m     \u001b[38;5;28;01mraise\u001b[39;00m \u001b[38;5;167;01mValueError\u001b[39;00m(msg)\n\u001b[1;32m    675\u001b[0m \u001b[38;5;28mself\u001b[39m\u001b[38;5;241m.\u001b[39mcbar_title \u001b[38;5;241m=\u001b[39m \u001b[38;5;28mself\u001b[39m\u001b[38;5;241m.\u001b[39mcolname\n\u001b[1;32m    676\u001b[0m \u001b[38;5;66;03m# clip GSEA lower bounds\u001b[39;00m\n\u001b[1;32m    677\u001b[0m \u001b[38;5;66;03m# if self.colname in [\"NOM p-val\", \"FDR q-val\"]:\u001b[39;00m\n\u001b[1;32m    678\u001b[0m \u001b[38;5;66;03m#     df[self.colname].clip(1e-5, 1.0, inplace=True)\u001b[39;00m\n\u001b[1;32m    679\u001b[0m \u001b[38;5;66;03m# sorting the dataframe for better visualization\u001b[39;00m\n",
      "\u001b[0;31mValueError\u001b[0m: Warning: No enrich terms when cutoff = 0.01"
     ]
    }
   ],
   "source": [
    "generate_go_info('Lung', 'Lung5_Rep2.gem.txt.cell_type.tumor_12_7PVN', '1NN', '/')"
   ]
  }
 ],
 "metadata": {
  "kernelspec": {
   "display_name": "crustdb",
   "language": "python",
   "name": "python3"
  },
  "language_info": {
   "codemirror_mode": {
    "name": "ipython",
    "version": 3
   },
   "file_extension": ".py",
   "mimetype": "text/x-python",
   "name": "python",
   "nbconvert_exporter": "python",
   "pygments_lexer": "ipython3",
   "version": "3.9.19"
  }
 },
 "nbformat": 4,
 "nbformat_minor": 2
}
