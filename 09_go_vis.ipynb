{
 "cells": [
  {
   "cell_type": "code",
   "execution_count": 77,
   "metadata": {},
   "outputs": [],
   "source": [
    "import pickle\n",
    "import networkx as nx\n",
    "import numpy as np\n",
    "import pandas as pd\n",
    "# import math\n",
    "# import EoN\n",
    "# import random\n",
    "import pickle\n",
    "from Phage_api import settings_local as local_settings\n",
    "import glob\n",
    "# import gseapy as gp"
   ]
  },
  {
   "cell_type": "code",
   "execution_count": 78,
   "metadata": {},
   "outputs": [],
   "source": [
    "import importlib.util\n",
    "gseapy=importlib.util.spec_from_file_location(\"gseapy\",\"/home/platform/project/crustdb_platform/crustdb_api/workspace/analysis_script/scripts/cytotopo_reference_package/gseapy/plot.py\")\n",
    "DotPlot = importlib.util.module_from_spec(gseapy)\n",
    "gseapy.loader.exec_module(DotPlot)"
   ]
  },
  {
   "cell_type": "code",
   "execution_count": 79,
   "metadata": {},
   "outputs": [
    {
     "data": {
      "text/plain": [
       "'/home/platform/project/crustdb_platform/crustdb_api/workspace/crustdb_database/topology/'"
      ]
     },
     "execution_count": 79,
     "metadata": {},
     "output_type": "execute_result"
    }
   ],
   "source": [
    "home = local_settings.CRUSTDB_DATABASE+'topology/'\n",
    "home"
   ]
  },
  {
   "cell_type": "code",
   "execution_count": 80,
   "metadata": {},
   "outputs": [],
   "source": [
    "def run_go_analysis(go_df):\n",
    "    result_new = go_df\n",
    "    if result_new.shape[0] > 200:\n",
    "        figsize=False\n",
    "        size = False\n",
    "        top_term=3\n",
    "    else:\n",
    "        figsize = (5,10)\n",
    "        size = 50\n",
    "        top_term = 5\n",
    "\n",
    "    x_key = 'Gene_set'\n",
    "    if not figsize:\n",
    "        figsize = (int(len(result_new[x_key].unique())/3), int(top_term*len(result_new[x_key].unique())/10))\n",
    "    if not size:\n",
    "        size = int(top_term*len(result_new[x_key].unique())/15)\n",
    "\n",
    "    result_new.loc[:,'Term'] = result_new.loc[:,'Term'].str.split('(', expand=True)[0]\n",
    "\n",
    "    cutoff = 0.01\n",
    "    while int(len(result_new[result_new.loc[:,'Adjusted P-value'] <= cutoff][x_key].unique())) < 3:\n",
    "        cutoff = cutoff + 0.01\n",
    "\n",
    "    dot = DotPlot.DotPlot(\n",
    "        df=result_new,\n",
    "        x='Gene_set',\n",
    "        y='Term',\n",
    "        x_order=False,\n",
    "        y_order=False,\n",
    "        hue=\"Adjusted P-value\",\n",
    "        title=\"title\",\n",
    "        thresh=cutoff,\n",
    "        n_terms=int(top_term),\n",
    "        dot_scale=size,\n",
    "        figsize=figsize,\n",
    "        cmap=\"viridis_r\",\n",
    "        ofname=None,\n",
    "        marker='o',\n",
    "    )\n",
    "    go_info = dot.data[['Gene_set', 'Term', 'p_inv', 'Hits_ratio']]\n",
    "    return go_info"
   ]
  },
  {
   "cell_type": "code",
   "execution_count": 81,
   "metadata": {},
   "outputs": [],
   "source": [
    "def generate_go_info(species, conformation, algo, param):\n",
    "    go_df = pd.read_csv(home+species+'/'+conformation+'/'+algo+'/'+param+'/Go.csv', index_col=0)\n",
    "    go_info = run_go_analysis(go_df)\n",
    "    go_info.to_csv(home+species+'/'+conformation+'/'+algo+'/'+param+'/Go_result.csv')"
   ]
  },
  {
   "cell_type": "code",
   "execution_count": 82,
   "metadata": {},
   "outputs": [],
   "source": [
    "layer1 = glob.glob(home+'*')\n",
    "for _species in layer1:\n",
    "    species = _species.split('/')[-1]\n",
    "    if species not in ['Mice']:\n",
    "        continue\n",
    "    layer2 = glob.glob(_species+'/*')\n",
    "    for _conformation in layer2:\n",
    "        conformation = _conformation.split('/')[-1]\n",
    "        try:\n",
    "            for algo in ['1NN', 'KNN', 'KNN_SNN', 'RNN', 'RNN_SNN']:\n",
    "                if algo in ['1NN']:\n",
    "                    param = '/'\n",
    "                    generate_go_info(species, conformation, algo, param)\n",
    "                else:\n",
    "                    _algo = _conformation + '/' + algo\n",
    "                    layer3 = glob.glob(_algo + '/*')\n",
    "                    for _param in layer3:\n",
    "                        if 'pkl' in _param:\n",
    "                            continue\n",
    "                        param = _param.split('/')[-1]\n",
    "                        generate_go_info(species, conformation, algo, param)\n",
    "        except:\n",
    "            print('Error ---> '+species+'/'+conformation+'/'+algo)"
   ]
  }
 ],
 "metadata": {
  "kernelspec": {
   "display_name": "crustdb",
   "language": "python",
   "name": "python3"
  },
  "language_info": {
   "codemirror_mode": {
    "name": "ipython",
    "version": 3
   },
   "file_extension": ".py",
   "mimetype": "text/x-python",
   "name": "python",
   "nbconvert_exporter": "python",
   "pygments_lexer": "ipython3",
   "version": "3.9.19"
  }
 },
 "nbformat": 4,
 "nbformat_minor": 2
}
