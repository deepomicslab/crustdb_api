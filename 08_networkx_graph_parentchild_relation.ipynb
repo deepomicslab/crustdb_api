{
 "cells": [
  {
   "cell_type": "code",
   "execution_count": 87,
   "metadata": {},
   "outputs": [],
   "source": [
    "import pickle\n",
    "import networkx as nx\n",
    "import numpy as np\n",
    "import pandas as pd\n",
    "# import math\n",
    "# import EoN\n",
    "# import random\n",
    "import pickle\n",
    "from Phage_api import settings_local as local_settings\n",
    "import glob"
   ]
  },
  {
   "cell_type": "code",
   "execution_count": 88,
   "metadata": {},
   "outputs": [
    {
     "data": {
      "text/plain": [
       "'/home/platform/project/crustdb_platform/crustdb_api/workspace/crustdb_database/topology/'"
      ]
     },
     "execution_count": 88,
     "metadata": {},
     "output_type": "execute_result"
    }
   ],
   "source": [
    "home = local_settings.CRUSTDB_DATABASE+'topology/'\n",
    "home"
   ]
  },
  {
   "cell_type": "code",
   "execution_count": 89,
   "metadata": {},
   "outputs": [],
   "source": [
    "# BFS\n",
    "def my_hierarchy(node_map, G, root, parent = None):\n",
    "    children = list(G.neighbors(root))\n",
    "    if not isinstance(G, nx.DiGraph) and parent is not None:\n",
    "        children.remove(parent)\n",
    "    child_list = []\n",
    "    if len(children)!=0:\n",
    "        for child in children:\n",
    "            x = my_hierarchy(node_map, G, child, parent=root)\n",
    "            if x:\n",
    "                child_list.append({\n",
    "                    'name': child,\n",
    "                    'value': node_map[child],\n",
    "                    'children': x,\n",
    "                })\n",
    "            else:\n",
    "                child_list.append({\n",
    "                    'name': child,\n",
    "                    'value': node_map[child],\n",
    "                    # 'children': x,\n",
    "                })\n",
    "        return child_list\n",
    "    else:\n",
    "        return None\n"
   ]
  },
  {
   "cell_type": "code",
   "execution_count": 90,
   "metadata": {},
   "outputs": [],
   "source": [
    "def generate_parent_child_relation(species, conformation):\n",
    "    _nodes = pd.read_csv(home+species+'/'+'/'+conformation+'/MST/node.csv').to_numpy()\n",
    "    node_map = {}\n",
    "    for i in range(len(_nodes)):\n",
    "        node_map[_nodes[i][0]] = _nodes[i][-1]\n",
    "\n",
    "    path = home+species+'/'+'/'+conformation+'/MST/MST.pkl'\n",
    "    with open(path, 'rb') as handle:\n",
    "        G = pickle.load(handle)\n",
    "    \n",
    "    node_size = nx.pagerank(G, alpha=0.85,weight=None)\n",
    "    sorted_dict = sorted(node_size.items(), key=lambda x: x[1],reverse=True)\n",
    "    labels = {}\n",
    "    for i in sorted_dict[:10]:\n",
    "        labels[i[0]] = i[0]\n",
    "    root = list(labels.values())[0]\n",
    "\n",
    "    _res = my_hierarchy(node_map=node_map, G=G, root=root)\n",
    "    res = {\n",
    "        'name': root,\n",
    "        'value': node_map[root],\n",
    "        'children': _res,\n",
    "    }\n",
    "\n",
    "    return res"
   ]
  },
  {
   "cell_type": "code",
   "execution_count": 91,
   "metadata": {},
   "outputs": [
    {
     "name": "stdout",
     "output_type": "stream",
     "text": [
      "Error ---> Lung/Lung12.gem.txt.cell_type.Treg_RRH9\n"
     ]
    }
   ],
   "source": [
    "layer1 = glob.glob(home+'*')\n",
    "for _species in layer1:\n",
    "    species = _species.split('/')[-1]\n",
    "    layer2 = glob.glob(_species+'/*')\n",
    "    for _conformation in layer2:\n",
    "        conformation = _conformation.split('/')[-1]\n",
    "        try:\n",
    "            res = generate_parent_child_relation(species=species, conformation=conformation)\n",
    "            with open(home+species+'/'+conformation+'/MST/mst_parentchild_relation.pkl', 'wb') as handle:\n",
    "                pickle.dump(res, handle, protocol=pickle.HIGHEST_PROTOCOL)\n",
    "        except:\n",
    "            print('Error ---> '+species+'/'+conformation)"
   ]
  }
 ],
 "metadata": {
  "kernelspec": {
   "display_name": "crustdb",
   "language": "python",
   "name": "python3"
  },
  "language_info": {
   "codemirror_mode": {
    "name": "ipython",
    "version": 3
   },
   "file_extension": ".py",
   "mimetype": "text/x-python",
   "name": "python",
   "nbconvert_exporter": "python",
   "pygments_lexer": "ipython3",
   "version": "3.9.undefined"
  }
 },
 "nbformat": 4,
 "nbformat_minor": 2
}
