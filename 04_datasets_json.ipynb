{
 "cells": [
  {
   "cell_type": "code",
   "execution_count": 11,
   "metadata": {},
   "outputs": [],
   "source": [
    "import json"
   ]
  },
  {
   "cell_type": "code",
   "execution_count": 12,
   "metadata": {},
   "outputs": [],
   "source": [
    "file_path = '/home/platform/project/crustdb_platform/crustdb_api/workspace/crustdb_database/main/datasets.json'"
   ]
  },
  {
   "cell_type": "code",
   "execution_count": 13,
   "metadata": {},
   "outputs": [],
   "source": [
    "datasets = [\n",
    "    {\n",
    "        \"doi\": \"10.1126/science.abp9444\",\n",
    "        \"title\": \"Single-cell Stereo-seq reveals induced progenitor cells involved in axolotl brain regeneration\",\n",
    "        \"author\": \"Wei, Xiaoyu and Fu, Sulei and Li, Hanbo and Liu, Yang and Wang, Shuai and Feng, Weimin and Yang, Yunzhi and Liu, Xiawei and Zeng, Yan-Yun and Cheng, Mengnan and others\",\n",
    "        \"journal\": \"Science\",\n",
    "        \"volume\": \"377\",\n",
    "        \"number\": \"6610\",\n",
    "        \"pages\": \"eabp9444\",\n",
    "        \"year\": 2022,\n",
    "        \"publisher\": \"American Association for the Advancement of Science\",\n",
    "        \"abstract\": \"The molecular mechanism underlying brain regeneration in vertebrates remains elusive. We performed spatial enhanced resolution omics sequencing (Stereo-seq) to capture spatially resolved single-cell transcriptomes of axolotl telencephalon sections during development and regeneration. Annotated cell types exhibited distinct spatial distribution, molecular features, and functions. We identified an injury-induced ependymoglial cell cluster at the wound site as a progenitor cell population for the potential replenishment of lost neurons, through a cell state transition process resembling neurogenesis during development. Transcriptome comparisons indicated that these induced cells may originate from local resident ependymoglial cells. We further uncovered spatially defined neurons at the lesion site that may regress to an immature neuron-like state. Our work establishes spatial transcriptome profiles of an anamniote tetrapod brain and decodes potential neurogenesis from ependymoglial cells for development and regeneration, thus providing mechanistic insights into vertebrate brain regeneration.\",\n",
    "    },\n",
    "    {\n",
    "        \"doi\": \"10.1101/2021.11.03.467020\",\n",
    "        \"title\": \"High-plex multiomic analysis in FFPE tissue at single-cellular and subcellular resolution by spatial molecular imaging\",\n",
    "        \"author\": \"He, Shanshan and Bhatt, Ruchir and Birditt, Brian and Brown, Carl and Brown, Emily and Chantranuvatana, Kan and Danaher, Patrick and Dunaway, Dwayne and Filanoski, Brian and Garrison, Ryan G and others\",\n",
    "        \"journal\": \"bioRxiv\",\n",
    "        \"pages\": \"2021--11\",\n",
    "        \"year\": 2021,\n",
    "        \"publisher\": \"Cold Spring Harbor Laboratory\",\n",
    "        \"abstract\": \"The Spatial Molecular Imaging platform (CosMxTM SMI, NanoString Technologies, Seattle, WA) utilizes high-plex in-situ imaging chemistry for both RNA and protein detection. This automated instrument provides 1000's of plex, at high sensitivity (1 to 2 copies/cell), very low error rate (0.0092 false calls/cell) and background (~0.04 counts/cell). The imaging system generates three-dimensional super-resolution localization of analytes at ~2 million cells per sample, four samples per run. Cell segmentation is morphology-based using antibodies, compatible with FFPE samples. Multiomic data (980 RNAs, 108 proteins) were measured at subcellular resolution using FFPE tissues (non-small cell lung (NSCLC) and breast cancer) and allowed identification of over 18 distinct cell types, 10 unique tumor microenvironments, and 100 pairwise ligand-receptor interactions. Over 800,000 single cells and ~260 million transcripts data are released into the public domain allowing extended data analysis by the entire spatial biology research community.\",\n",
    "    },\n",
    "]"
   ]
  },
  {
   "cell_type": "code",
   "execution_count": 14,
   "metadata": {},
   "outputs": [
    {
     "data": {
      "text/plain": [
       "'[{\"doi\": \"10.1126/science.abp9444\", \"title\": \"Single-cell Stereo-seq reveals induced progenitor cells involved in axolotl brain regeneration\", \"author\": \"Wei, Xiaoyu and Fu, Sulei and Li, Hanbo and Liu, Yang and Wang, Shuai and Feng, Weimin and Yang, Yunzhi and Liu, Xiawei and Zeng, Yan-Yun and Cheng, Mengnan and others\", \"journal\": \"Science\", \"volume\": \"377\", \"number\": \"6610\", \"pages\": \"eabp9444\", \"year\": 2022, \"publisher\": \"American Association for the Advancement of Science\", \"abstract\": \"The molecular mechanism underlying brain regeneration in vertebrates remains elusive. We performed spatial enhanced resolution omics sequencing (Stereo-seq) to capture spatially resolved single-cell transcriptomes of axolotl telencephalon sections during development and regeneration. Annotated cell types exhibited distinct spatial distribution, molecular features, and functions. We identified an injury-induced ependymoglial cell cluster at the wound site as a progenitor cell population for the potential replenishment of lost neurons, through a cell state transition process resembling neurogenesis during development. Transcriptome comparisons indicated that these induced cells may originate from local resident ependymoglial cells. We further uncovered spatially defined neurons at the lesion site that may regress to an immature neuron-like state. Our work establishes spatial transcriptome profiles of an anamniote tetrapod brain and decodes potential neurogenesis from ependymoglial cells for development and regeneration, thus providing mechanistic insights into vertebrate brain regeneration.\"}, {\"doi\": \"10.1101/2021.11.03.467020\", \"title\": \"High-plex multiomic analysis in FFPE tissue at single-cellular and subcellular resolution by spatial molecular imaging\", \"author\": \"He, Shanshan and Bhatt, Ruchir and Birditt, Brian and Brown, Carl and Brown, Emily and Chantranuvatana, Kan and Danaher, Patrick and Dunaway, Dwayne and Filanoski, Brian and Garrison, Ryan G and others\", \"journal\": \"bioRxiv\", \"pages\": \"2021--11\", \"year\": 2021, \"publisher\": \"Cold Spring Harbor Laboratory\", \"abstract\": \"The Spatial Molecular Imaging platform (CosMxTM SMI, NanoString Technologies, Seattle, WA) utilizes high-plex in-situ imaging chemistry for both RNA and protein detection. This automated instrument provides 1000\\'s of plex, at high sensitivity (1 to 2 copies/cell), very low error rate (0.0092 false calls/cell) and background (~0.04 counts/cell). The imaging system generates three-dimensional super-resolution localization of analytes at ~2 million cells per sample, four samples per run. Cell segmentation is morphology-based using antibodies, compatible with FFPE samples. Multiomic data (980 RNAs, 108 proteins) were measured at subcellular resolution using FFPE tissues (non-small cell lung (NSCLC) and breast cancer) and allowed identification of over 18 distinct cell types, 10 unique tumor microenvironments, and 100 pairwise ligand-receptor interactions. Over 800,000 single cells and ~260 million transcripts data are released into the public domain allowing extended data analysis by the entire spatial biology research community.\"}]'"
      ]
     },
     "execution_count": 14,
     "metadata": {},
     "output_type": "execute_result"
    }
   ],
   "source": [
    "datasets_json = json.dumps(datasets)\n",
    "datasets_json"
   ]
  },
  {
   "cell_type": "code",
   "execution_count": 15,
   "metadata": {},
   "outputs": [],
   "source": [
    "with open(file_path, \"w\") as f:\n",
    "    f.write(datasets_json)"
   ]
  },
  {
   "cell_type": "code",
   "execution_count": 16,
   "metadata": {},
   "outputs": [
    {
     "data": {
      "text/plain": [
       "'10.1126/science.abp9444'"
      ]
     },
     "execution_count": 16,
     "metadata": {},
     "output_type": "execute_result"
    }
   ],
   "source": [
    "with open(file_path) as json_file:\n",
    "    data = json.load(json_file)\n",
    "data[0]['doi']"
   ]
  },
  {
   "cell_type": "code",
   "execution_count": 17,
   "metadata": {},
   "outputs": [
    {
     "data": {
      "text/plain": [
       "True"
      ]
     },
     "execution_count": 17,
     "metadata": {},
     "output_type": "execute_result"
    }
   ],
   "source": [
    "'doi' in data[0].keys()"
   ]
  }
 ],
 "metadata": {
  "kernelspec": {
   "display_name": "crustdb",
   "language": "python",
   "name": "python3"
  },
  "language_info": {
   "codemirror_mode": {
    "name": "ipython",
    "version": 3
   },
   "file_extension": ".py",
   "mimetype": "text/x-python",
   "name": "python",
   "nbconvert_exporter": "python",
   "pygments_lexer": "ipython3",
   "version": "3.9.19"
  }
 },
 "nbformat": 4,
 "nbformat_minor": 2
}
