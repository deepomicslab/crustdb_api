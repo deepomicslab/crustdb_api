{
  "cells": [
    {
      "cell_type": "code",
      "execution_count": 87,
      "metadata": {},
      "outputs": [],
      "source": [
        "import pickle\n",
        "import networkx as nx\n",
        "import numpy as np\n",
        "import math\n",
        "import EoN\n",
        "import random"
      ]
    },
    {
      "cell_type": "code",
      "execution_count": 88,
      "metadata": {},
      "outputs": [],
      "source": [
        "path = '/home/platform/project/crustdb_platform/crustdb_api/workspace/crustdb_database/topology/Lung/Lung5_Rep1.gem.txt.cell_type.B-cell_ISV2/MST/MST.pkl'\n",
        "with open(path, 'rb') as handle:\n",
        "    G = pickle.load(handle)"
      ]
    },
    {
      "cell_type": "code",
      "execution_count": 89,
      "metadata": {},
      "outputs": [],
      "source": [
        "# G.number_of_nodes()"
      ]
    },
    {
      "cell_type": "code",
      "execution_count": 90,
      "metadata": {},
      "outputs": [
        {
          "data": {
            "text/plain": [
              "NodeView(('MZT2A', 'MALAT1', 'DUSP5', 'CD74', 'TYK2', 'HLA-B', 'IGHM', 'HLA-C', 'B2M', 'IGHA1', 'HLA-DRB1', 'HLA-A', 'IGKC', 'HLA-DPA1', 'COL9A2', 'RPL21', 'IGHG1', 'HLA-DRA', 'CXCR4', 'RPL34', 'NPPC', 'NEAT1', 'CD37', 'RPL37', 'IGHG2', 'HLA-DRB5', 'HLA-E', 'CIITA', 'FKBP11', 'MS4A1', 'CD53', 'BTG1', 'HLA-DPB1', 'RPL22', 'TIMP1', 'IL16', 'HLA-DQA1', 'COL1A1', 'HSPA1A', 'HSP90AB1', 'PSAP', 'HSPA1B', 'IGFBP7', 'VIM', 'EZR', 'LTB', 'TNFRSF12A', 'HLA-DQB1', 'IGHD', 'CD79A', 'COL3A1', 'CD52', 'TUBB', 'PTPRC', 'HSP90AA1', 'IFITM3', 'MT2A', 'EIF5A', 'CD19', 'PTGDR2', 'CD3E', 'IRF3', 'KRT14', 'RPL32', 'SRGN', 'PTPRCAP', 'BGN', 'MIF', 'COTL1', 'KLF2', 'CD44', 'GPX1', 'S100A6', 'GSTP1', 'TNFRSF13B', 'IL32', 'BCL2', 'MGP', 'CD83', 'HSPB1', 'JAK1', 'HSP90B1', 'SOD2', 'JCHAIN', 'TAGLN', 'DUSP1', 'CD81', 'NLRC5', 'SELL', 'CCL19', 'CRP', 'CD63', 'VHL', 'CD48', 'RAC2', 'ZFP36', 'H4C3', 'P2RX5', 'JUNB', 'CTNNB1', 'CLU', 'SQSTM1', 'ARHGDIB', 'LGALS1', 'RAMP1', 'LYZ', 'CD27', 'WIF1', 'PTGDS', 'FN1', 'DCN', 'IL4R', 'CALM2', 'TGFBR2', 'ST6GAL1', 'CD55', 'CSK', 'CD40', 'CRIP1', 'S100A9', 'IFITM1', 'GPR183', 'UBE2C', 'CD68', 'CFLAR', 'RARA', 'COL1A2', 'GNLY', 'ETS1', 'LTF', 'IL10RA', 'HMGB2', 'CCR7', 'KRT8', 'S100A4', 'CD47', 'PLAC8', 'MX1', 'IL2RG', 'MTRNR2L1', 'RARRES2', 'CD69', 'RAC1', 'FCRLA', 'COL6A2', 'CYTOR', 'STAT6', 'ITGB1', 'IFNGR2', 'ATG12', 'RELT', 'ICAM3', 'H2AZ1', 'LYN', 'ITGB2', 'LUM', 'BTK', 'CLEC2D', 'C9orf16', 'SYK', 'ARF1', 'IL11', 'SAT1', 'ITGA1', 'C1QA', 'RGS1', 'FABP5', 'RUNX3', 'CCL21', 'CTSG', 'BAX', 'NFKBIA', 'GSN', 'ENTPD1', 'ANXA2', 'IRF4', 'TAP2', 'THBS2', 'FOS', 'IL2RA', 'COL6A3', 'IFNGR1', 'KRT15', 'SPOCK2', 'GADD45B', 'KRT18', 'C1QC', 'NR1H2', 'IL7R', 'STAT3', 'HDAC1', 'OAS2', 'CXCR5', 'PTGES3', 'DUSP2', 'CD24', 'HCST', 'CASP8', 'JUN', 'EMP3', 'GLUL', 'TGFB1', 'CYP1B1', 'YBX3', 'STAT1', 'TNFRSF14', 'WNT7B', 'IL13RA1', 'FYN', 'MAPK14', 'MMP2', 'IL15RA', 'ITGAL', 'RGS2', 'IFNAR2', 'NDRG1', 'COL6A1', 'XBP1', 'KRT1', 'PARP1', 'FCGR3A', 'ITGAX', 'PTGES2', 'ICOSLG', 'VCAN', 'MMP7', 'SOD1', 'RGCC', 'IL6ST', 'NOSIP', 'HDAC3', 'TAP1', 'CCL5', 'IL10RB', 'S100A10', 'RXRB', 'MZB1', 'ATM', 'IL1R1', 'VPREB3', 'SAA1', 'HIF1A', 'C11orf96', 'RB1', 'TNFRSF18', 'TNFSF9', 'BST2', 'FYB1', 'TCL1A', 'SMARCB1', 'SMAD2', 'CCR1', 'CALM3', 'TPM2', 'CCND1', 'CDKN1A', 'TFEB', 'RELA', 'THBS1', 'APP', 'MT1X', 'TUBB4B', 'OAS3', 'S100B', 'CD14', 'VTN', 'CD84', 'COL4A2', 'NLRP1', 'SMAD4', 'TNFRSF1A', 'RARRES1', 'KRT16', 'VEGFB', 'CD58', 'MAF', 'CCL15', 'VSIR', 'DDR1', 'IL11RA', 'TYROBP', 'NOTCH2', 'SEC23A', 'ADGRE5', 'IL27RA', 'LGALS9', 'ITGAV', 'IGF2R', 'CFD', 'ALCAM', 'PCNA', 'ITGA5', 'FLT3LG', 'CD2', 'SELENOP', 'BCL2L1', 'SNAI1', 'TIGIT', 'CXCL16', 'LPAR5', 'KLRK1', 'RBPJ', 'PNOC', 'DUSP6', 'CALD1', 'ICAM2', 'SEC61G', 'STAT5A', 'DDX58', 'NR3C1', 'CD59', 'CD70', 'NOTCH1', 'CX3CL1', 'IFNAR1', 'STAT5B', 'KRAS', 'BID', 'CD164', 'HTT', 'CLDN4', 'HILPDA', 'CSF2RA', 'CSF3', 'MYC', 'CNTFR'))"
            ]
          },
          "execution_count": 90,
          "metadata": {},
          "output_type": "execute_result"
        }
      ],
      "source": [
        "G.nodes"
      ]
    },
    {
      "cell_type": "code",
      "execution_count": 91,
      "metadata": {},
      "outputs": [
        {
          "data": {
            "text/plain": [
              "{'CD37': 'CD37',\n",
              " 'CRIP1': 'CRIP1',\n",
              " 'WIF1': 'WIF1',\n",
              " 'MMP2': 'MMP2',\n",
              " 'FABP5': 'FABP5',\n",
              " 'IFITM3': 'IFITM3',\n",
              " 'CXCR4': 'CXCR4',\n",
              " 'FYN': 'FYN',\n",
              " 'JAK1': 'JAK1',\n",
              " 'KRT14': 'KRT14'}"
            ]
          },
          "execution_count": 91,
          "metadata": {},
          "output_type": "execute_result"
        }
      ],
      "source": [
        "node_size = nx.pagerank(G, alpha=0.85,weight=None)\n",
        "sorted_dict = sorted(node_size.items(), key=lambda x: x[1],reverse=True)\n",
        "labels = {}\n",
        "for i in sorted_dict[:10]:\n",
        "    labels[i[0]] = i[0]\n",
        "labels"
      ]
    },
    {
      "cell_type": "code",
      "execution_count": 92,
      "metadata": {},
      "outputs": [],
      "source": [
        "root = list(labels.values())[0]"
      ]
    },
    {
      "cell_type": "code",
      "execution_count": 93,
      "metadata": {},
      "outputs": [],
      "source": [
        "def _hierarchy_pos(G, root, leftmost, width, leafdx = 0.2, vert_gap = 0.2, vert_loc = 0, \n",
        "                xcenter = 0.5, rootpos = None, \n",
        "                leafpos = None, parent = None):\n",
        "    # pos: a dict saying where all nodes go if they have been assigned\n",
        "    # parent: parent of this branch. - only affects it if non-directed\n",
        "\n",
        "    if rootpos is None:\n",
        "        rootpos = {root:(xcenter,vert_loc)}\n",
        "    else:\n",
        "        rootpos[root] = (xcenter, vert_loc)\n",
        "    if leafpos is None:\n",
        "        leafpos = {}\n",
        "    children = list(G.neighbors(root))\n",
        "    leaf_count = 0\n",
        "    if not isinstance(G, nx.DiGraph) and parent is not None:\n",
        "        children.remove(parent)  \n",
        "    if len(children)!=0:\n",
        "        rootdx = width/len(children)\n",
        "        nextx = xcenter - width/2 - rootdx/2\n",
        "        for child in children:\n",
        "            nextx += rootdx\n",
        "            rootpos, leafpos, newleaves = _hierarchy_pos(G,child, leftmost+leaf_count*leafdx, \n",
        "                                width=rootdx, leafdx=leafdx,\n",
        "                                vert_gap = vert_gap, vert_loc = vert_loc-vert_gap, \n",
        "                                xcenter=nextx, rootpos=rootpos, leafpos=leafpos, parent = root)\n",
        "            leaf_count += newleaves\n",
        "\n",
        "        leftmostchild = min((x for x,y in [leafpos[child] for child in children]))\n",
        "        rightmostchild = max((x for x,y in [leafpos[child] for child in children]))\n",
        "        leafpos[root] = ((leftmostchild+rightmostchild)/2, vert_loc)\n",
        "    else:\n",
        "        leaf_count = 1\n",
        "        leafpos[root]  = (leftmost, vert_loc)\n",
        "#        pos[root] = (leftmost + (leaf_count-1)*dx/2., vert_loc)\n",
        "#        print(leaf_count)\n",
        "    return rootpos, leafpos, leaf_count\n",
        "\n",
        "rootpos, leafpos, leaf_count = _hierarchy_pos(G, root, leftmost=0, width=1)"
      ]
    },
    {
      "cell_type": "code",
      "execution_count": 96,
      "metadata": {},
      "outputs": [],
      "source": [
        "def my_hierarchy(G, root, parent = None):\n",
        "    children = list(G.neighbors(root))\n",
        "    if not isinstance(G, nx.DiGraph) and parent is not None:\n",
        "        children.remove(parent)\n",
        "    child_list = {}\n",
        "    if len(children)!=0:\n",
        "        for child in children:\n",
        "            # if child == root: print('--------------')\n",
        "            x = my_hierarchy(G, child, parent=root)\n",
        "            child_list[child] = x\n",
        "    return child_list\n",
        "\n",
        "res = my_hierarchy(G, root)"
      ]
    },
    {
      "cell_type": "code",
      "execution_count": null,
      "metadata": {},
      "outputs": [],
      "source": []
    },
    {
      "cell_type": "code",
      "execution_count": 8,
      "metadata": {},
      "outputs": [],
      "source": [
        "with open('/home/platform/project/crustdb_platform/crustdb_api/workspace/analysis_script/tmp/my_cronjob.log', 'a') as f:\n",
        "    f.write('exec update start  '+str(1)+\"\\n\")\n",
        "    f.write('tasklist'+\"\\n\")"
      ]
    },
    {
      "cell_type": "code",
      "execution_count": 4,
      "metadata": {},
      "outputs": [],
      "source": [
        "import subprocess\n",
        "import sys\n",
        "\n",
        "def get_job_status(job_id):\n",
        "    squeue_command = [\"squeue\", \"--job\", str(job_id), \"--format=%T\"]\n",
        "    try:\n",
        "        squeue_output = subprocess.check_output(squeue_command).decode(\"utf-8\")\n",
        "        lines = squeue_output.strip().split(\"\\n\")\n",
        "        if len(lines) > 1:\n",
        "            return lines[1].strip()\n",
        "    except subprocess.CalledProcessError as e:\n",
        "        print(\"squeue check error:\", e, file=sys.stderr)\n",
        "        pass\n",
        "\n",
        "    sacct_command = [\"sacct\", \"--jobs\", str(job_id), \"--format=JobID,State\"]\n",
        "    try:\n",
        "        print(sacct_command)\n",
        "        sacct_output = subprocess.check_output(sacct_command).decode(\"utf-8\")\n",
        "    except subprocess.CalledProcessError as e:\n",
        "        print(\"sacct check error:\", e, file=sys.stderr)\n",
        "        return None\n",
        "    lines = sacct_output.strip().split(\"\\n\")\n",
        "    for line in lines[1:]:\n",
        "        parts = line.strip().split()\n",
        "        if len(parts) == 2 and parts[0] == str(job_id):\n",
        "            return parts[1]\n",
        "    return None"
      ]
    },
    {
      "cell_type": "code",
      "execution_count": 6,
      "metadata": {},
      "outputs": [
        {
          "name": "stdout",
          "output_type": "stream",
          "text": [
            "['sacct', '--jobs', '1410439', '--format=JobID,State']\n"
          ]
        },
        {
          "name": "stderr",
          "output_type": "stream",
          "text": [
            "slurm_load_jobs error: Invalid job id specified\n",
            "squeue check error: Command '['squeue', '--job', '1410439', '--format=%T']' returned non-zero exit status 1.\n"
          ]
        }
      ],
      "source": [
        "s = get_job_status(1410439)"
      ]
    },
    {
      "cell_type": "code",
      "execution_count": 7,
      "metadata": {},
      "outputs": [
        {
          "data": {
            "text/plain": [
              "'COMPLETED'"
            ]
          },
          "execution_count": 7,
          "metadata": {},
          "output_type": "execute_result"
        }
      ],
      "source": [
        "s"
      ]
    },
    {
      "cell_type": "code",
      "execution_count": null,
      "metadata": {},
      "outputs": [],
      "source": []
    },
    {
      "cell_type": "code",
      "execution_count": 1,
      "metadata": {},
      "outputs": [],
      "source": [
        "import re"
      ]
    },
    {
      "cell_type": "code",
      "execution_count": 2,
      "metadata": {},
      "outputs": [],
      "source": [
        "with open('/home/platform/project/crustdb_platform/crustdb_api/workspace/analysis_script/user/1718914601_CLXV/output/result/SS200000108BR_A3A4_scgem.Endothelial_cell_NH17/SS200000108BR_A3A4_scgem.Endothelial_cell_NH17.log') as f:\n",
        "    L = f.readlines()\n",
        "str = ''\n",
        "for i in L:\n",
        "    str += i"
      ]
    },
    {
      "cell_type": "code",
      "execution_count": 3,
      "metadata": {},
      "outputs": [
        {
          "data": {
            "text/plain": [
              "\"Adding SS200000108BR_A3A4_scgem.Endothelial_cell in adata.obs['orig.ident'].\\nAdding data.position as adata.obsm['spatial'] .\\nAdding data.position as adata.obs['x'] and adata.obs['y'] .\\nFinished conversion to anndata.\\nSpecies: Mice\\nSample Name: SS200000108BR_A3A4_scgem.Endothelial_cell\\nSeed: 276\\nCell Number: 3742\\nGene Number: 20620\\nThreshold for gene filter is: 0.9\\nNumber of genes used for Rotation Derivation is: 20\\nTask ID: NH17\\n\\nRMSD between New Configuration and Old Configuration for loop 1 is: 1.5460099142863046\\nRMSD between New Configuration and Old Configuration for loop 2 is: 1.1024348190870825\\nRMSD between New Configuration and Old Configuration for loop 3 is: 0.7504339278753149\\nRMSD between New Configuration and Old Configuration for loop 4 is: 0.5617881870985418\\nRMSD between New Configuration and Old Configuration for loop 5 is: 0.5042391766914847\\nRMSD between New Configuration and Old Configuration for loop 6 is: 0.47996502393980306\\nRMSD between New Configuration and Old Configuration for loop 7 is: 0.4343601843325759\\nRMSD between New Configuration and Old Configuration for loop 8 is: 0.4320516172986857\\nRMSD between New Configuration and Old Configuration for loop 9 is: 0.4570370904519167\\nRMSD between New Configuration and Old Configuration for loop 10 is: 0.40802358904369596\\nRMSD between New Configuration and Old Configuration for loop 11 is: 0.3523507197465416\\nRMSD between New Configuration and Old Configuration for loop 12 is: 0.3789901448697951\\nRMSD between New Configuration and Old Configuration for loop 13 is: 0.36195161347803917\\nRMSD between New Configuration and Old Configuration for loop 14 is: 0.36008780974519566\\nRMSD between New Configuration and Old Configuration for loop 15 is: 0.39065586051675716\\nRMSD between New Configuration and Old Configuration for loop 16 is: 0.40644988838332025\\nRMSD between New Configuration and Old Configuration for loop 17 is: 0.3624397097949175\\nRMSD between New Configuration and Old Configuration for loop 18 is: 0.37743194111141337\\nRMSD between New Configuration and Old Configuration for loop 19 is: 0.3835809911050916\\nRMSD between New Configuration and Old Configuration for loop 20 is: 0.41767985158484944\\nRMSD between New Configuration and Old Configuration for loop 21 is: 0.3896239245923771\\nRMSD between New Configuration and Old Configuration for loop 22 is: 0.35920478886366\\nRMSD between New Configuration and Old Configuration for loop 23 is: 0.33799340644950704\\nRMSD between New Configuration and Old Configuration for loop 24 is: 0.3094750509370445\\nRMSD between New Configuration and Old Configuration for loop 25 is: 0.2951541641395095\\nRMSD between New Configuration and Old Configuration for loop 26 is: 0.2780472748293772\\nRMSD between New Configuration and Old Configuration for loop 27 is: 0.26969288835868266\\nRMSD between New Configuration and Old Configuration for loop 28 is: 0.2957777242548775\\nRMSD between New Configuration and Old Configuration for loop 29 is: 0.2822732536276216\\nRMSD between New Configuration and Old Configuration for loop 30 is: 0.3054980629438832\\nNumber of total Transcription centers is: 1054\\nconformation reconstruction finished.\\n\""
            ]
          },
          "execution_count": 3,
          "metadata": {},
          "output_type": "execute_result"
        }
      ],
      "source": [
        "str"
      ]
    },
    {
      "cell_type": "code",
      "execution_count": 3,
      "metadata": {},
      "outputs": [],
      "source": [
        "import re\n",
        "def re_match(start, end, str):\n",
        "    _, res = re.findall(r\"(\"+start+r\")\\s*(.*?)\\s*(?!\\1)(?:\"+end+r\")\", str)[0]\n",
        "    return res\n",
        "re_match('Species: ', '\\n', str)"
      ]
    },
    {
      "cell_type": "code",
      "execution_count": 5,
      "metadata": {},
      "outputs": [
        {
          "data": {
            "text/plain": [
              "{'first_name': 'Malcom', 'last_name': 'Reynolds'}"
            ]
          },
          "execution_count": 5,
          "metadata": {},
          "output_type": "execute_result"
        }
      ],
      "source": [
        "re.match(r\"(?P<first_name>\\w+) (?P<last_name>\\w+)\", \"Malcom Reynolds\").groupdict()"
      ]
    },
    {
      "cell_type": "code",
      "execution_count": null,
      "metadata": {},
      "outputs": [],
      "source": []
    },
    {
      "cell_type": "code",
      "execution_count": 8,
      "metadata": {},
      "outputs": [
        {
          "data": {
            "text/plain": [
              "[\"['10.1038/s41467-023-43458-x', 'IRF7_DCs_UPBD', 'IRF7_DCs', 'human_breast_cancer_S1R2', 'Xenium', 'Homo sapiens (Human)', 'N/A', 'TNM stage T2N1M0, ER+ /HER2+ /PR-', 'N/A']\"]"
            ]
          },
          "execution_count": 8,
          "metadata": {},
          "output_type": "execute_result"
        }
      ],
      "source": [
        "import csv\n",
        "cStr = '10.1038/s41467-023-43458-x,IRF7_DCs_UPBD,IRF7_DCs,human_breast_cancer_S1R2,Xenium,Homo sapiens (Human),N/A,\"TNM stage T2N1M0, ER+ /HER2+ /PR-\",N/A'\n",
        "[ \"{}\".format(x) for x in list(csv.reader([cStr], delimiter=',', quotechar='\"')) ]"
      ]
    },
    {
      "cell_type": "code",
      "execution_count": 11,
      "metadata": {},
      "outputs": [
        {
          "data": {
            "text/plain": [
              "['10.1038/s41467-023-43458-x',\n",
              " 'IRF7_DCs_UPBD',\n",
              " 'IRF7_DCs',\n",
              " 'human_breast_cancer_S1R2',\n",
              " 'Xenium',\n",
              " 'Homo sapiens (Human)',\n",
              " 'N/A',\n",
              " 'TNM stage T2N1M0, ER+ /HER2+ /PR-',\n",
              " 'N/A']"
            ]
          },
          "execution_count": 11,
          "metadata": {},
          "output_type": "execute_result"
        }
      ],
      "source": [
        "list(csv.reader([cStr], delimiter=',', quotechar='\"'))[0]"
      ]
    },
    {
      "cell_type": "code",
      "execution_count": null,
      "metadata": {},
      "outputs": [],
      "source": []
    },
    {
      "cell_type": "code",
      "execution_count": 2,
      "metadata": {},
      "outputs": [],
      "source": [
        "import scanpy as sc\n",
        "\n",
        "adata = sc.read_h5ad('/home/platform/project/crustdb_platform/crustdb_api/adata.h5ad')"
      ]
    },
    {
      "cell_type": "code",
      "execution_count": 7,
      "metadata": {},
      "outputs": [
        {
          "data": {
            "text/plain": [
              "array([[[-0.78412063,  0.22081987, -0.57999432],\n",
              "        [ 0.29400593, -0.69086012, -0.6605095 ],\n",
              "        [-0.54654857, -0.6884409 ,  0.47679532]],\n",
              "\n",
              "       [[ 0.27859316,  0.86439489,  0.41857775],\n",
              "        [ 0.15997551, -0.47151002,  0.867229  ],\n",
              "        [ 0.94699192, -0.17464188, -0.26964147]],\n",
              "\n",
              "       [[-0.1516805 , -0.88806812,  0.43396778],\n",
              "        [-0.93358874,  0.27292874,  0.23221103],\n",
              "        [-0.32466149, -0.36992555, -0.87048837]],\n",
              "\n",
              "       ...,\n",
              "\n",
              "       [[-0.33130616,  0.52825495,  0.7817819 ],\n",
              "        [ 0.9148131 , -0.02299753,  0.40322215],\n",
              "        [ 0.23098315,  0.84877431, -0.47563533]],\n",
              "\n",
              "       [[ 0.19530004,  0.3409872 ,  0.9195573 ],\n",
              "        [ 0.77764714, -0.62515726,  0.06665827],\n",
              "        [ 0.59759754,  0.70207274, -0.38726096]],\n",
              "\n",
              "       [[-0.04208385,  0.05086813,  0.99781831],\n",
              "        [-0.96775946,  0.24615808, -0.05336507],\n",
              "        [-0.24833562, -0.96789392,  0.03886884]]])"
            ]
          },
          "execution_count": 7,
          "metadata": {},
          "output_type": "execute_result"
        }
      ],
      "source": [
        "adata.obsm['Rotation']"
      ]
    },
    {
      "cell_type": "code",
      "execution_count": null,
      "metadata": {},
      "outputs": [],
      "source": []
    },
    {
      "cell_type": "code",
      "execution_count": 3,
      "metadata": {},
      "outputs": [
        {
          "data": {
            "text/plain": [
              "<module 'django.conf.global_settings' from '/home/platform/.local/lib/python3.9/site-packages/django/conf/global_settings.py'>"
            ]
          },
          "execution_count": 3,
          "metadata": {},
          "output_type": "execute_result"
        }
      ],
      "source": [
        "from django.conf import global_settings\n",
        "global_settings"
      ]
    },
    {
      "cell_type": "code",
      "execution_count": 5,
      "metadata": {},
      "outputs": [
        {
          "name": "stdout",
          "output_type": "stream",
          "text": [
            "DATA_UPLOAD_MAX_MEMORY_SIZE = 2621440  # i.e. 2.5 MB\n"
          ]
        }
      ],
      "source": [
        "! cat /home/platform/.local/lib/python3.9/site-packages/django/conf/global_settings.py | grep DATA_UPLOAD_MAX_MEMORY_SIZE"
      ]
    },
    {
      "cell_type": "code",
      "execution_count": null,
      "metadata": {},
      "outputs": [],
      "source": []
    },
    {
      "cell_type": "code",
      "execution_count": 6,
      "metadata": {},
      "outputs": [
        {
          "data": {
            "text/plain": [
              "True"
            ]
          },
          "execution_count": 6,
          "metadata": {},
          "output_type": "execute_result"
        }
      ],
      "source": [
        "gem_path = '/home/platform/project/crustdb_platform/crustdb_web/public/demo_input/craft_multi_celltype/merfish_ileum/baysor_transcripts.gem.csv'\n",
        "sep = ','\n",
        "\n",
        "def read_gem_header(gem_path, sep=\"\\t\"):\n",
        "    with open(gem_path, \"r\") as f:\n",
        "        header = f.readline().strip().split(sep)\n",
        "        return header\n",
        "\n",
        "def check_gem_header(header):\n",
        "    if (\n",
        "        (\"geneID\" in header or \"gene\" in header or \"GeneID\" in header)\n",
        "        and (\"cell\" in header or \"CellID\" in header or \"cell_id\" in header)\n",
        "        and \"x\" in header\n",
        "        and \"y\" in header\n",
        "        and (\"MIDCount\" in header or \"MIDCounts\" in header or \"expr\" in header)\n",
        "    ):\n",
        "        return True\n",
        "    else:\n",
        "        return False\n",
        "\n",
        "gem_header = read_gem_header(gem_path, sep=',')\n",
        "check_gem_header(gem_header)"
      ]
    },
    {
      "cell_type": "code",
      "execution_count": null,
      "metadata": {},
      "outputs": [],
      "source": []
    },
    {
      "cell_type": "code",
      "execution_count": 1,
      "metadata": {},
      "outputs": [
        {
          "data": {
            "text/plain": [
              "'transcripts.gem.csv.leiden_final.B_Follicular_Circulating_FQ1Z'"
            ]
          },
          "execution_count": 1,
          "metadata": {},
          "output_type": "execute_result"
        }
      ],
      "source": [
        "str = 'MERFISH_MICE_ILEUM.csv.leiden_final.B_Follicular_Circulating_FQ1Z'\n",
        "str2 = str.replace('MERFISH_MICE_ILEUM.csv', 'transcripts.gem.csv')\n",
        "str2"
      ]
    },
    {
      "cell_type": "code",
      "execution_count": null,
      "metadata": {},
      "outputs": [],
      "source": []
    },
    {
      "cell_type": "code",
      "execution_count": 17,
      "metadata": {},
      "outputs": [],
      "source": [
        "import pandas as pd\n",
        "import numpy as np"
      ]
    },
    {
      "cell_type": "code",
      "execution_count": 18,
      "metadata": {},
      "outputs": [],
      "source": [
        "map = {\n",
        "    'S1R1': 'GSM7780153_Xenium_R1_Fig1-5_supervised.csv',\n",
        "    'S1R2': 'GSM7780154_Xenium_R2_Fig1-5_supervised.csv',\n",
        "    'S2': 'GSM7780155_Xenium_Fig_6_unsupervised.csv',\n",
        "}"
      ]
    },
    {
      "cell_type": "code",
      "execution_count": 19,
      "metadata": {},
      "outputs": [
        {
          "name": "stdout",
          "output_type": "stream",
          "text": [
            "S1R1 GSM7780153_Xenium_R1_Fig1-5_supervised.csv\n",
            "S1R2 GSM7780154_Xenium_R2_Fig1-5_supervised.csv\n",
            "S2 GSM7780155_Xenium_Fig_6_unsupervised.csv\n"
          ]
        }
      ],
      "source": [
        "for i, j in map.items():\n",
        "    print(i, j)\n",
        "    df1 = pd.read_csv('/home/platform/project/crustdb_platform/crustdb_api/workspace/crustdb_database/adata/still_adata/'+i+'/'+j)\n",
        "    df2 = pd.read_csv('/home/platform/project/crustdb_platform/crustdb_api/workspace/crustdb_database/adata/still_adata/'+i+'/cells.csv')\n",
        "    df2['Cluster'] = df1['Cluster']\n",
        "    df2.to_csv('/home/platform/project/crustdb_platform/crustdb_api/workspace/crustdb_database/adata/'+j)"
      ]
    },
    {
      "cell_type": "code",
      "execution_count": null,
      "metadata": {},
      "outputs": [],
      "source": []
    },
    {
      "cell_type": "code",
      "execution_count": 2,
      "metadata": {},
      "outputs": [],
      "source": [
        "import pandas as pd\n",
        "import numpy as np"
      ]
    },
    {
      "cell_type": "code",
      "execution_count": 11,
      "metadata": {},
      "outputs": [
        {
          "data": {
            "text/plain": [
              "(440,)"
            ]
          },
          "execution_count": 11,
          "metadata": {},
          "output_type": "execute_result"
        }
      ],
      "source": [
        "df = pd.read_csv('/home/platform/project/crustdb_platform/crustdb_api/workspace/crustdb_database/main/CRUST_OUTPUT_INFO.csv')\n",
        "np.unique([i[:-5] for i in df['Data UID'].to_numpy()]).shape"
      ]
    },
    {
      "cell_type": "code",
      "execution_count": 13,
      "metadata": {},
      "outputs": [
        {
          "data": {
            "text/html": [
              "<div>\n",
              "<style scoped>\n",
              "    .dataframe tbody tr th:only-of-type {\n",
              "        vertical-align: middle;\n",
              "    }\n",
              "\n",
              "    .dataframe tbody tr th {\n",
              "        vertical-align: top;\n",
              "    }\n",
              "\n",
              "    .dataframe thead th {\n",
              "        text-align: right;\n",
              "    }\n",
              "</style>\n",
              "<table border=\"1\" class=\"dataframe\">\n",
              "  <thead>\n",
              "    <tr style=\"text-align: right;\">\n",
              "      <th></th>\n",
              "      <th>DOI</th>\n",
              "      <th>Data UID</th>\n",
              "      <th>Cell Type</th>\n",
              "      <th>Slice ID</th>\n",
              "      <th>ST Platform</th>\n",
              "      <th>Species</th>\n",
              "      <th>Developmental Stage / Age</th>\n",
              "      <th>Disease Stage</th>\n",
              "      <th>Sex</th>\n",
              "    </tr>\n",
              "  </thead>\n",
              "  <tbody>\n",
              "    <tr>\n",
              "      <th>0</th>\n",
              "      <td>10.1126/science.abp9444</td>\n",
              "      <td>Stage44.CP_1XOH</td>\n",
              "      <td>CP</td>\n",
              "      <td>Stage44_telencephalon_rep2_FP200000239BL_E4</td>\n",
              "      <td>Stereo-seq</td>\n",
              "      <td>Ambystoma mexicanum (Axolotl)</td>\n",
              "      <td>Stage 44</td>\n",
              "      <td>Normal</td>\n",
              "      <td>Male</td>\n",
              "    </tr>\n",
              "    <tr>\n",
              "      <th>1</th>\n",
              "      <td>10.1126/science.abp9444</td>\n",
              "      <td>Stage44.dEGC_7T6P</td>\n",
              "      <td>dEGC</td>\n",
              "      <td>Stage44_telencephalon_rep2_FP200000239BL_E4</td>\n",
              "      <td>Stereo-seq</td>\n",
              "      <td>Ambystoma mexicanum (Axolotl)</td>\n",
              "      <td>Stage 44</td>\n",
              "      <td>Normal</td>\n",
              "      <td>Male</td>\n",
              "    </tr>\n",
              "    <tr>\n",
              "      <th>2</th>\n",
              "      <td>10.1126/science.abp9444</td>\n",
              "      <td>Stage44.dNBL1_HM1K</td>\n",
              "      <td>dNBL1</td>\n",
              "      <td>Stage44_telencephalon_rep2_FP200000239BL_E4</td>\n",
              "      <td>Stereo-seq</td>\n",
              "      <td>Ambystoma mexicanum (Axolotl)</td>\n",
              "      <td>Stage 44</td>\n",
              "      <td>Normal</td>\n",
              "      <td>Male</td>\n",
              "    </tr>\n",
              "    <tr>\n",
              "      <th>3</th>\n",
              "      <td>10.1126/science.abp9444</td>\n",
              "      <td>Stage44.dNBL2_FUQU</td>\n",
              "      <td>dNBL2</td>\n",
              "      <td>Stage44_telencephalon_rep2_FP200000239BL_E4</td>\n",
              "      <td>Stereo-seq</td>\n",
              "      <td>Ambystoma mexicanum (Axolotl)</td>\n",
              "      <td>Stage 44</td>\n",
              "      <td>Normal</td>\n",
              "      <td>Male</td>\n",
              "    </tr>\n",
              "    <tr>\n",
              "      <th>4</th>\n",
              "      <td>10.1126/science.abp9444</td>\n",
              "      <td>Stage44.dNBL3_HF1K</td>\n",
              "      <td>dNBL3</td>\n",
              "      <td>Stage44_telencephalon_rep2_FP200000239BL_E4</td>\n",
              "      <td>Stereo-seq</td>\n",
              "      <td>Ambystoma mexicanum (Axolotl)</td>\n",
              "      <td>Stage 44</td>\n",
              "      <td>Normal</td>\n",
              "      <td>Male</td>\n",
              "    </tr>\n",
              "  </tbody>\n",
              "</table>\n",
              "</div>"
            ],
            "text/plain": [
              "                       DOI            Data UID Cell Type  \\\n",
              "0  10.1126/science.abp9444     Stage44.CP_1XOH        CP   \n",
              "1  10.1126/science.abp9444   Stage44.dEGC_7T6P      dEGC   \n",
              "2  10.1126/science.abp9444  Stage44.dNBL1_HM1K     dNBL1   \n",
              "3  10.1126/science.abp9444  Stage44.dNBL2_FUQU     dNBL2   \n",
              "4  10.1126/science.abp9444  Stage44.dNBL3_HF1K     dNBL3   \n",
              "\n",
              "                                      Slice ID ST Platform  \\\n",
              "0  Stage44_telencephalon_rep2_FP200000239BL_E4  Stereo-seq   \n",
              "1  Stage44_telencephalon_rep2_FP200000239BL_E4  Stereo-seq   \n",
              "2  Stage44_telencephalon_rep2_FP200000239BL_E4  Stereo-seq   \n",
              "3  Stage44_telencephalon_rep2_FP200000239BL_E4  Stereo-seq   \n",
              "4  Stage44_telencephalon_rep2_FP200000239BL_E4  Stereo-seq   \n",
              "\n",
              "                         Species Developmental Stage / Age Disease Stage   Sex  \n",
              "0  Ambystoma mexicanum (Axolotl)                  Stage 44        Normal  Male  \n",
              "1  Ambystoma mexicanum (Axolotl)                  Stage 44        Normal  Male  \n",
              "2  Ambystoma mexicanum (Axolotl)                  Stage 44        Normal  Male  \n",
              "3  Ambystoma mexicanum (Axolotl)                  Stage 44        Normal  Male  \n",
              "4  Ambystoma mexicanum (Axolotl)                  Stage 44        Normal  Male  "
            ]
          },
          "execution_count": 13,
          "metadata": {},
          "output_type": "execute_result"
        }
      ],
      "source": [
        "df.head()"
      ]
    },
    {
      "cell_type": "code",
      "execution_count": 22,
      "metadata": {},
      "outputs": [
        {
          "data": {
            "text/plain": [
              "array(['Adult.CMPN', 'Adult.CP', 'Adult.MSN', 'Adult.VLMC', 'Adult.cckIN',\n",
              "       'Adult.dpEX', 'Adult.mpEX', 'Adult.mpIN', 'Adult.nptxEX',\n",
              "       'Adult.ntng1IN', 'Adult.ribEGC', 'Adult.scgnIN', 'Adult.sfrpEGC',\n",
              "       'Adult.sstIN', 'Adult.tlNBL', 'Adult.wntEGC', 'Control_Juv.CMPN',\n",
              "       'Control_Juv.CP', 'Control_Juv.MCG', 'Control_Juv.MSN',\n",
              "       'Control_Juv.Unknown', 'Control_Juv.VLMC', 'Control_Juv.cckIN',\n",
              "       'Control_Juv.dpEX', 'Control_Juv.mpEX', 'Control_Juv.nptxEX',\n",
              "       'Control_Juv.npyIN', 'Control_Juv.ribEGC', 'Control_Juv.scgnIN',\n",
              "       'Control_Juv.sfrpEGC', 'Control_Juv.sstIN', 'Control_Juv.tlNBL',\n",
              "       'Control_Juv.wntEGC', 'Meta.CMPN', 'Meta.CP', 'Meta.MCG',\n",
              "       'Meta.MSN', 'Meta.Oligo', 'Meta.Unknown', 'Meta.VLMC',\n",
              "       'Meta.cckIN', 'Meta.dpEX', 'Meta.mpEX', 'Meta.nptxEX',\n",
              "       'Meta.npyIN', 'Meta.ribEGC', 'Meta.scgnIN', 'Meta.sfrpEGC',\n",
              "       'Meta.sstIN', 'Meta.tlNBL', 'Meta.wntEGC', 'Stage44.CP',\n",
              "       'Stage44.Immature_CMPN', 'Stage44.Immature_MSN',\n",
              "       'Stage44.Immature_nptxEX', 'Stage44.VLMC', 'Stage44.dEGC',\n",
              "       'Stage44.dNBL1', 'Stage44.dNBL2', 'Stage44.dNBL3', 'Stage54.CP',\n",
              "       'Stage54.Immature_CMPN', 'Stage54.Immature_DMIN',\n",
              "       'Stage54.Immature_MSN', 'Stage54.Immature_cckIN',\n",
              "       'Stage54.Immature_dpEX', 'Stage54.Immature_mpEX',\n",
              "       'Stage54.Immature_nptxEX', 'Stage54.VLMC', 'Stage54.dEGC',\n",
              "       'Stage54.dNBL1', 'Stage54.dNBL2', 'Stage54.dNBL4', 'Stage54.dNBL5',\n",
              "       'Stage54.sfrpEGC', 'Stage54.wntEGC', 'Stage57.CP',\n",
              "       'Stage57.Immature_CMPN', 'Stage57.Immature_MSN',\n",
              "       'Stage57.Immature_cckIN', 'Stage57.Immature_dpEX',\n",
              "       'Stage57.Immature_mpEX', 'Stage57.Immature_nptxEX', 'Stage57.MSN',\n",
              "       'Stage57.VLMC', 'Stage57.dEGC', 'Stage57.dNBL1', 'Stage57.dNBL2',\n",
              "       'Stage57.dNBL4', 'Stage57.dNBL5', 'Stage57.nptxEX',\n",
              "       'Stage57.sfrpEGC', 'Stage57.wntEGC'], dtype='<U23')"
            ]
          },
          "execution_count": 22,
          "metadata": {},
          "output_type": "execute_result"
        }
      ],
      "source": [
        "([i[:-5] for i in df[df['Species'] == 'Ambystoma mexicanum (Axolotl)']['Data UID']])"
      ]
    }
  ],
  "metadata": {
    "kernelspec": {
      "display_name": "crustdb",
      "language": "python",
      "name": "python3"
    },
    "language_info": {
      "codemirror_mode": {
        "name": "ipython",
        "version": 3
      },
      "file_extension": ".py",
      "mimetype": "text/x-python",
      "name": "python",
      "nbconvert_exporter": "python",
      "pygments_lexer": "ipython3",
      "version": "3.9.19"
    }
  },
  "nbformat": 4,
  "nbformat_minor": 2
}
