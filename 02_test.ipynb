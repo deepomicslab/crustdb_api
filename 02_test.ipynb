{
 "cells": [
  {
   "cell_type": "code",
   "execution_count": 87,
   "metadata": {},
   "outputs": [],
   "source": [
    "import pickle\n",
    "import networkx as nx\n",
    "import numpy as np\n",
    "import math\n",
    "import EoN\n",
    "import random"
   ]
  },
  {
   "cell_type": "code",
   "execution_count": 88,
   "metadata": {},
   "outputs": [],
   "source": [
    "path = '/home/platform/project/crustdb_platform/crustdb_api/workspace/crustdb_database/topology/Lung/Lung5_Rep1.gem.txt.cell_type.B-cell_ISV2/MST/MST.pkl'\n",
    "with open(path, 'rb') as handle:\n",
    "    G = pickle.load(handle)"
   ]
  },
  {
   "cell_type": "code",
   "execution_count": 89,
   "metadata": {},
   "outputs": [],
   "source": [
    "# G.number_of_nodes()"
   ]
  },
  {
   "cell_type": "code",
   "execution_count": 90,
   "metadata": {},
   "outputs": [
    {
     "data": {
      "text/plain": [
       "NodeView(('MZT2A', 'MALAT1', 'DUSP5', 'CD74', 'TYK2', 'HLA-B', 'IGHM', 'HLA-C', 'B2M', 'IGHA1', 'HLA-DRB1', 'HLA-A', 'IGKC', 'HLA-DPA1', 'COL9A2', 'RPL21', 'IGHG1', 'HLA-DRA', 'CXCR4', 'RPL34', 'NPPC', 'NEAT1', 'CD37', 'RPL37', 'IGHG2', 'HLA-DRB5', 'HLA-E', 'CIITA', 'FKBP11', 'MS4A1', 'CD53', 'BTG1', 'HLA-DPB1', 'RPL22', 'TIMP1', 'IL16', 'HLA-DQA1', 'COL1A1', 'HSPA1A', 'HSP90AB1', 'PSAP', 'HSPA1B', 'IGFBP7', 'VIM', 'EZR', 'LTB', 'TNFRSF12A', 'HLA-DQB1', 'IGHD', 'CD79A', 'COL3A1', 'CD52', 'TUBB', 'PTPRC', 'HSP90AA1', 'IFITM3', 'MT2A', 'EIF5A', 'CD19', 'PTGDR2', 'CD3E', 'IRF3', 'KRT14', 'RPL32', 'SRGN', 'PTPRCAP', 'BGN', 'MIF', 'COTL1', 'KLF2', 'CD44', 'GPX1', 'S100A6', 'GSTP1', 'TNFRSF13B', 'IL32', 'BCL2', 'MGP', 'CD83', 'HSPB1', 'JAK1', 'HSP90B1', 'SOD2', 'JCHAIN', 'TAGLN', 'DUSP1', 'CD81', 'NLRC5', 'SELL', 'CCL19', 'CRP', 'CD63', 'VHL', 'CD48', 'RAC2', 'ZFP36', 'H4C3', 'P2RX5', 'JUNB', 'CTNNB1', 'CLU', 'SQSTM1', 'ARHGDIB', 'LGALS1', 'RAMP1', 'LYZ', 'CD27', 'WIF1', 'PTGDS', 'FN1', 'DCN', 'IL4R', 'CALM2', 'TGFBR2', 'ST6GAL1', 'CD55', 'CSK', 'CD40', 'CRIP1', 'S100A9', 'IFITM1', 'GPR183', 'UBE2C', 'CD68', 'CFLAR', 'RARA', 'COL1A2', 'GNLY', 'ETS1', 'LTF', 'IL10RA', 'HMGB2', 'CCR7', 'KRT8', 'S100A4', 'CD47', 'PLAC8', 'MX1', 'IL2RG', 'MTRNR2L1', 'RARRES2', 'CD69', 'RAC1', 'FCRLA', 'COL6A2', 'CYTOR', 'STAT6', 'ITGB1', 'IFNGR2', 'ATG12', 'RELT', 'ICAM3', 'H2AZ1', 'LYN', 'ITGB2', 'LUM', 'BTK', 'CLEC2D', 'C9orf16', 'SYK', 'ARF1', 'IL11', 'SAT1', 'ITGA1', 'C1QA', 'RGS1', 'FABP5', 'RUNX3', 'CCL21', 'CTSG', 'BAX', 'NFKBIA', 'GSN', 'ENTPD1', 'ANXA2', 'IRF4', 'TAP2', 'THBS2', 'FOS', 'IL2RA', 'COL6A3', 'IFNGR1', 'KRT15', 'SPOCK2', 'GADD45B', 'KRT18', 'C1QC', 'NR1H2', 'IL7R', 'STAT3', 'HDAC1', 'OAS2', 'CXCR5', 'PTGES3', 'DUSP2', 'CD24', 'HCST', 'CASP8', 'JUN', 'EMP3', 'GLUL', 'TGFB1', 'CYP1B1', 'YBX3', 'STAT1', 'TNFRSF14', 'WNT7B', 'IL13RA1', 'FYN', 'MAPK14', 'MMP2', 'IL15RA', 'ITGAL', 'RGS2', 'IFNAR2', 'NDRG1', 'COL6A1', 'XBP1', 'KRT1', 'PARP1', 'FCGR3A', 'ITGAX', 'PTGES2', 'ICOSLG', 'VCAN', 'MMP7', 'SOD1', 'RGCC', 'IL6ST', 'NOSIP', 'HDAC3', 'TAP1', 'CCL5', 'IL10RB', 'S100A10', 'RXRB', 'MZB1', 'ATM', 'IL1R1', 'VPREB3', 'SAA1', 'HIF1A', 'C11orf96', 'RB1', 'TNFRSF18', 'TNFSF9', 'BST2', 'FYB1', 'TCL1A', 'SMARCB1', 'SMAD2', 'CCR1', 'CALM3', 'TPM2', 'CCND1', 'CDKN1A', 'TFEB', 'RELA', 'THBS1', 'APP', 'MT1X', 'TUBB4B', 'OAS3', 'S100B', 'CD14', 'VTN', 'CD84', 'COL4A2', 'NLRP1', 'SMAD4', 'TNFRSF1A', 'RARRES1', 'KRT16', 'VEGFB', 'CD58', 'MAF', 'CCL15', 'VSIR', 'DDR1', 'IL11RA', 'TYROBP', 'NOTCH2', 'SEC23A', 'ADGRE5', 'IL27RA', 'LGALS9', 'ITGAV', 'IGF2R', 'CFD', 'ALCAM', 'PCNA', 'ITGA5', 'FLT3LG', 'CD2', 'SELENOP', 'BCL2L1', 'SNAI1', 'TIGIT', 'CXCL16', 'LPAR5', 'KLRK1', 'RBPJ', 'PNOC', 'DUSP6', 'CALD1', 'ICAM2', 'SEC61G', 'STAT5A', 'DDX58', 'NR3C1', 'CD59', 'CD70', 'NOTCH1', 'CX3CL1', 'IFNAR1', 'STAT5B', 'KRAS', 'BID', 'CD164', 'HTT', 'CLDN4', 'HILPDA', 'CSF2RA', 'CSF3', 'MYC', 'CNTFR'))"
      ]
     },
     "execution_count": 90,
     "metadata": {},
     "output_type": "execute_result"
    }
   ],
   "source": [
    "G.nodes"
   ]
  },
  {
   "cell_type": "code",
   "execution_count": 91,
   "metadata": {},
   "outputs": [
    {
     "data": {
      "text/plain": [
       "{'CD37': 'CD37',\n",
       " 'CRIP1': 'CRIP1',\n",
       " 'WIF1': 'WIF1',\n",
       " 'MMP2': 'MMP2',\n",
       " 'FABP5': 'FABP5',\n",
       " 'IFITM3': 'IFITM3',\n",
       " 'CXCR4': 'CXCR4',\n",
       " 'FYN': 'FYN',\n",
       " 'JAK1': 'JAK1',\n",
       " 'KRT14': 'KRT14'}"
      ]
     },
     "execution_count": 91,
     "metadata": {},
     "output_type": "execute_result"
    }
   ],
   "source": [
    "node_size = nx.pagerank(G, alpha=0.85,weight=None)\n",
    "sorted_dict = sorted(node_size.items(), key=lambda x: x[1],reverse=True)\n",
    "labels = {}\n",
    "for i in sorted_dict[:10]:\n",
    "    labels[i[0]] = i[0]\n",
    "labels"
   ]
  },
  {
   "cell_type": "code",
   "execution_count": 92,
   "metadata": {},
   "outputs": [],
   "source": [
    "root = list(labels.values())[0]"
   ]
  },
  {
   "cell_type": "code",
   "execution_count": 93,
   "metadata": {},
   "outputs": [],
   "source": [
    "def _hierarchy_pos(G, root, leftmost, width, leafdx = 0.2, vert_gap = 0.2, vert_loc = 0, \n",
    "                xcenter = 0.5, rootpos = None, \n",
    "                leafpos = None, parent = None):\n",
    "    # pos: a dict saying where all nodes go if they have been assigned\n",
    "    # parent: parent of this branch. - only affects it if non-directed\n",
    "\n",
    "    if rootpos is None:\n",
    "        rootpos = {root:(xcenter,vert_loc)}\n",
    "    else:\n",
    "        rootpos[root] = (xcenter, vert_loc)\n",
    "    if leafpos is None:\n",
    "        leafpos = {}\n",
    "    children = list(G.neighbors(root))\n",
    "    leaf_count = 0\n",
    "    if not isinstance(G, nx.DiGraph) and parent is not None:\n",
    "        children.remove(parent)  \n",
    "    if len(children)!=0:\n",
    "        rootdx = width/len(children)\n",
    "        nextx = xcenter - width/2 - rootdx/2\n",
    "        for child in children:\n",
    "            nextx += rootdx\n",
    "            rootpos, leafpos, newleaves = _hierarchy_pos(G,child, leftmost+leaf_count*leafdx, \n",
    "                                width=rootdx, leafdx=leafdx,\n",
    "                                vert_gap = vert_gap, vert_loc = vert_loc-vert_gap, \n",
    "                                xcenter=nextx, rootpos=rootpos, leafpos=leafpos, parent = root)\n",
    "            leaf_count += newleaves\n",
    "\n",
    "        leftmostchild = min((x for x,y in [leafpos[child] for child in children]))\n",
    "        rightmostchild = max((x for x,y in [leafpos[child] for child in children]))\n",
    "        leafpos[root] = ((leftmostchild+rightmostchild)/2, vert_loc)\n",
    "    else:\n",
    "        leaf_count = 1\n",
    "        leafpos[root]  = (leftmost, vert_loc)\n",
    "#        pos[root] = (leftmost + (leaf_count-1)*dx/2., vert_loc)\n",
    "#        print(leaf_count)\n",
    "    return rootpos, leafpos, leaf_count\n",
    "\n",
    "rootpos, leafpos, leaf_count = _hierarchy_pos(G, root, leftmost=0, width=1)"
   ]
  },
  {
   "cell_type": "code",
   "execution_count": 96,
   "metadata": {},
   "outputs": [],
   "source": [
    "def my_hierarchy(G, root, parent = None):\n",
    "    children = list(G.neighbors(root))\n",
    "    if not isinstance(G, nx.DiGraph) and parent is not None:\n",
    "        children.remove(parent)\n",
    "    child_list = {}\n",
    "    if len(children)!=0:\n",
    "        for child in children:\n",
    "            # if child == root: print('--------------')\n",
    "            x = my_hierarchy(G, child, parent=root)\n",
    "            child_list[child] = x\n",
    "    return child_list\n",
    "\n",
    "res = my_hierarchy(G, root)"
   ]
  }
 ],
 "metadata": {
  "kernelspec": {
   "display_name": "crustdb",
   "language": "python",
   "name": "python3"
  },
  "language_info": {
   "codemirror_mode": {
    "name": "ipython",
    "version": 3
   },
   "file_extension": ".py",
   "mimetype": "text/x-python",
   "name": "python",
   "nbconvert_exporter": "python",
   "pygments_lexer": "ipython3",
   "version": "3.9.19"
  }
 },
 "nbformat": 4,
 "nbformat_minor": 2
}
