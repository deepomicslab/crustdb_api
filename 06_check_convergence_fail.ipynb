{
 "cells": [
  {
   "cell_type": "code",
   "execution_count": 32,
   "metadata": {},
   "outputs": [],
   "source": [
    "from os import walk\n",
    "import os"
   ]
  },
  {
   "cell_type": "code",
   "execution_count": 33,
   "metadata": {},
   "outputs": [
    {
     "name": "stdout",
     "output_type": "stream",
     "text": [
      "convergence_fail_records conformation reconstruction failed.\n",
      "\n",
      "convergence_fail_records tumor 9: conformation reconstruction failed.\n",
      "\n",
      "convergence_fail_records tumor 6: conformation reconstruction failed.\n",
      "\n",
      "convergence_fail_records tumor 9: conformation reconstruction failed.\n",
      "\n",
      "convergence_fail_records tumor 13: conformation reconstruction failed.\n",
      "\n",
      "convergence_fail_records tumor 6: conformation reconstruction failed.\n",
      "\n",
      "convergence_fail_records Treg: conformation reconstruction failed.\n",
      "\n",
      "convergence_fail_records tumor 6: conformation reconstruction failed.\n",
      "\n",
      "convergence_fail_records tumor 6: conformation reconstruction failed.\n",
      "\n",
      "convergence_fail_records tumor 13: conformation reconstruction failed.\n",
      "\n",
      "convergence_fail_records tumor 9: conformation reconstruction failed.\n",
      "\n",
      "convergence_fail_records tumor 5: conformation reconstruction failed.\n",
      "\n",
      "convergence_fail_records T CD8 memory: conformation reconstruction failed.\n",
      "\n"
     ]
    }
   ],
   "source": [
    "path = '/home/platform/project/crustdb_platform/crustdb_api/workspace/crustdb_database/'\n",
    "convergence_fail_record = []\n",
    "for species in ['Axolotls', 'Human', 'convergence_fail_records']:\n",
    "    for (dirpath, dirnames, filenames) in walk(path + species):\n",
    "        for dir in dirnames:\n",
    "            with open(path + species + '/' + dir + '/' + dir + '.log', 'r') as f:\n",
    "                log_lines = f.readlines()\n",
    "                for log_line in log_lines:\n",
    "                    if 'conformation reconstruction failed' in log_line:\n",
    "                        print(species, log_line)\n",
    "                        convergence_fail_record.append((species, dir))\n",
    "        break"
   ]
  },
  {
   "cell_type": "code",
   "execution_count": 34,
   "metadata": {},
   "outputs": [
    {
     "data": {
      "text/plain": [
       "[('convergence_fail_records', '15DPI_2.CP_0TS6'),\n",
       " ('convergence_fail_records', 'Lung5_Rep2.gem.txt.cell_type.tumor_9_7PVN'),\n",
       " ('convergence_fail_records', 'Lung5_Rep2.gem.txt.cell_type.tumor_6_7PVN'),\n",
       " ('convergence_fail_records', 'Lung5_Rep3.gem.txt.cell_type.tumor_9_2R7L'),\n",
       " ('convergence_fail_records', 'Lung5_Rep2.gem.txt.cell_type.tumor_13_7PVN'),\n",
       " ('convergence_fail_records', 'Lung5_Rep3.gem.txt.cell_type.tumor_6_2R7L'),\n",
       " ('convergence_fail_records', 'Lung12.gem.txt.cell_type.Treg_RRH9'),\n",
       " ('convergence_fail_records', 'Lung12.gem.txt.cell_type.tumor_6_RRH9'),\n",
       " ('convergence_fail_records', 'Lung5_Rep1.gem.txt.cell_type.tumor_6_ISV2'),\n",
       " ('convergence_fail_records', 'Lung12.gem.txt.cell_type.tumor_13_RRH9'),\n",
       " ('convergence_fail_records', 'Lung5_Rep1.gem.txt.cell_type.tumor_9_ISV2'),\n",
       " ('convergence_fail_records', 'Lung13.gem.txt.cell_type.tumor_5_Q6PL'),\n",
       " ('convergence_fail_records', 'Lung12.gem.txt.cell_type.T_CD8_memory_RRH9')]"
      ]
     },
     "execution_count": 34,
     "metadata": {},
     "output_type": "execute_result"
    }
   ],
   "source": [
    "convergence_fail_record"
   ]
  },
  {
   "cell_type": "code",
   "execution_count": 35,
   "metadata": {},
   "outputs": [
    {
     "name": "stdout",
     "output_type": "stream",
     "text": [
      "mv ./15DPI_2.CP_0TS6 ../convergence_fail_records/15DPI_2.CP_0TS6\n",
      "mv ./Lung5_Rep2.gem.txt.cell_type.tumor_9_7PVN ../convergence_fail_records/Lung5_Rep2.gem.txt.cell_type.tumor_9_7PVN\n",
      "mv ./Lung5_Rep2.gem.txt.cell_type.tumor_6_7PVN ../convergence_fail_records/Lung5_Rep2.gem.txt.cell_type.tumor_6_7PVN\n",
      "mv ./Lung5_Rep3.gem.txt.cell_type.tumor_9_2R7L ../convergence_fail_records/Lung5_Rep3.gem.txt.cell_type.tumor_9_2R7L\n",
      "mv ./Lung5_Rep2.gem.txt.cell_type.tumor_13_7PVN ../convergence_fail_records/Lung5_Rep2.gem.txt.cell_type.tumor_13_7PVN\n",
      "mv ./Lung5_Rep3.gem.txt.cell_type.tumor_6_2R7L ../convergence_fail_records/Lung5_Rep3.gem.txt.cell_type.tumor_6_2R7L\n",
      "mv ./Lung12.gem.txt.cell_type.Treg_RRH9 ../convergence_fail_records/Lung12.gem.txt.cell_type.Treg_RRH9\n",
      "mv ./Lung12.gem.txt.cell_type.tumor_6_RRH9 ../convergence_fail_records/Lung12.gem.txt.cell_type.tumor_6_RRH9\n",
      "mv ./Lung5_Rep1.gem.txt.cell_type.tumor_6_ISV2 ../convergence_fail_records/Lung5_Rep1.gem.txt.cell_type.tumor_6_ISV2\n",
      "mv ./Lung12.gem.txt.cell_type.tumor_13_RRH9 ../convergence_fail_records/Lung12.gem.txt.cell_type.tumor_13_RRH9\n",
      "mv ./Lung5_Rep1.gem.txt.cell_type.tumor_9_ISV2 ../convergence_fail_records/Lung5_Rep1.gem.txt.cell_type.tumor_9_ISV2\n",
      "mv ./Lung13.gem.txt.cell_type.tumor_5_Q6PL ../convergence_fail_records/Lung13.gem.txt.cell_type.tumor_5_Q6PL\n",
      "mv ./Lung12.gem.txt.cell_type.T_CD8_memory_RRH9 ../convergence_fail_records/Lung12.gem.txt.cell_type.T_CD8_memory_RRH9\n"
     ]
    }
   ],
   "source": [
    "for i, j in convergence_fail_record:\n",
    "    print(\"mv ./\" + j + ' ../convergence_fail_records/' + j)"
   ]
  },
  {
   "cell_type": "code",
   "execution_count": 36,
   "metadata": {},
   "outputs": [],
   "source": [
    "# manually move records to 'convergence_fail_records' folder"
   ]
  }
 ],
 "metadata": {
  "kernelspec": {
   "display_name": "crustdb",
   "language": "python",
   "name": "python3"
  },
  "language_info": {
   "codemirror_mode": {
    "name": "ipython",
    "version": 3
   },
   "file_extension": ".py",
   "mimetype": "text/x-python",
   "name": "python",
   "nbconvert_exporter": "python",
   "pygments_lexer": "ipython3",
   "version": "3.9.19"
  }
 },
 "nbformat": 4,
 "nbformat_minor": 2
}
