{
 "cells": [
  {
   "cell_type": "code",
   "execution_count": 21,
   "metadata": {},
   "outputs": [],
   "source": [
    "from os import walk\n",
    "import os"
   ]
  },
  {
   "cell_type": "code",
   "execution_count": 22,
   "metadata": {},
   "outputs": [],
   "source": [
    "path = '/home/platform/project/crustdb_platform/crustdb_api/workspace/crustdb_database/'\n",
    "convergence_fail_record = []\n",
    "for species in ['Axolotls', 'Lung', 'Liver', 'Mice', 'Mice_Brain', 'merfish_ileum', 'Xenium_BreastCancer', 'convergence_fail_records']:\n",
    "    for (dirpath, dirnames, filenames) in walk(path + species):\n",
    "        for dir in dirnames:\n",
    "            with open(path + species + '/' + dir + '/' + dir + '.log', 'r') as f:\n",
    "                log_lines = f.readlines()\n",
    "                if len(log_lines) == 0:\n",
    "                    convergence_fail_record.append((species, dir))\n",
    "                else:\n",
    "                    for log_line in log_lines:\n",
    "                        if 'conformation reconstruction failed' in log_line:\n",
    "                            convergence_fail_record.append((species, dir))\n",
    "        # break"
   ]
  },
  {
   "cell_type": "code",
   "execution_count": 23,
   "metadata": {},
   "outputs": [
    {
     "data": {
      "text/plain": [
       "[('convergence_fail_records', '15DPI_2.CP_0TS6'),\n",
       " ('convergence_fail_records', 'Lung5_Rep2.gem.txt.cell_type.tumor_9_7PVN'),\n",
       " ('convergence_fail_records', 'Lung5_Rep2.gem.txt.cell_type.tumor_6_7PVN'),\n",
       " ('convergence_fail_records', 'Lung5_Rep3.gem.txt.cell_type.tumor_9_2R7L'),\n",
       " ('convergence_fail_records', 'Lung5_Rep2.gem.txt.cell_type.tumor_13_7PVN'),\n",
       " ('convergence_fail_records', 'Lung5_Rep3.gem.txt.cell_type.tumor_6_2R7L'),\n",
       " ('convergence_fail_records', 'Lung12.gem.txt.cell_type.Treg_RRH9'),\n",
       " ('convergence_fail_records', 'Lung12.gem.txt.cell_type.tumor_6_RRH9'),\n",
       " ('convergence_fail_records', 'Lung5_Rep1.gem.txt.cell_type.tumor_6_ISV2'),\n",
       " ('convergence_fail_records', 'Lung12.gem.txt.cell_type.tumor_13_RRH9'),\n",
       " ('convergence_fail_records', 'Lung5_Rep1.gem.txt.cell_type.tumor_9_ISV2'),\n",
       " ('convergence_fail_records', 'Lung13.gem.txt.cell_type.tumor_5_Q6PL'),\n",
       " ('convergence_fail_records', 'Lung12.gem.txt.cell_type.T_CD8_memory_RRH9'),\n",
       " ('convergence_fail_records', 'CancerousLiver.gem.csv.cellType.tumor_1_1YQX'),\n",
       " ('convergence_fail_records', 'NormalLiver.gem.csv.cellType.Hep.4_V3IA'),\n",
       " ('convergence_fail_records', 'NormalLiver.gem.csv.cellType.Hep.5_RU6F'),\n",
       " ('convergence_fail_records', 'NormalLiver.gem.csv.cellType.NotDet_ODVE'),\n",
       " ('convergence_fail_records', 'CancerousLiver.gem.csv.cellType.NotDet_NRPQ')]"
      ]
     },
     "execution_count": 23,
     "metadata": {},
     "output_type": "execute_result"
    }
   ],
   "source": [
    "convergence_fail_record"
   ]
  },
  {
   "cell_type": "code",
   "execution_count": 24,
   "metadata": {},
   "outputs": [
    {
     "name": "stdout",
     "output_type": "stream",
     "text": [
      "'15DPI_2.CP_0TS6',\n",
      "'Lung5_Rep2.gem.txt.cell_type.tumor_9_7PVN',\n",
      "'Lung5_Rep2.gem.txt.cell_type.tumor_6_7PVN',\n",
      "'Lung5_Rep3.gem.txt.cell_type.tumor_9_2R7L',\n",
      "'Lung5_Rep2.gem.txt.cell_type.tumor_13_7PVN',\n",
      "'Lung5_Rep3.gem.txt.cell_type.tumor_6_2R7L',\n",
      "'Lung12.gem.txt.cell_type.Treg_RRH9',\n",
      "'Lung12.gem.txt.cell_type.tumor_6_RRH9',\n",
      "'Lung5_Rep1.gem.txt.cell_type.tumor_6_ISV2',\n",
      "'Lung12.gem.txt.cell_type.tumor_13_RRH9',\n",
      "'Lung5_Rep1.gem.txt.cell_type.tumor_9_ISV2',\n",
      "'Lung13.gem.txt.cell_type.tumor_5_Q6PL',\n",
      "'Lung12.gem.txt.cell_type.T_CD8_memory_RRH9',\n",
      "'CancerousLiver.gem.csv.cellType.tumor_1_1YQX',\n",
      "'NormalLiver.gem.csv.cellType.Hep.4_V3IA',\n",
      "'NormalLiver.gem.csv.cellType.Hep.5_RU6F',\n",
      "'NormalLiver.gem.csv.cellType.NotDet_ODVE',\n",
      "'CancerousLiver.gem.csv.cellType.NotDet_NRPQ',\n"
     ]
    }
   ],
   "source": [
    "for i, j in convergence_fail_record:\n",
    "    print(\"'\"+j+\"',\")"
   ]
  },
  {
   "cell_type": "code",
   "execution_count": 25,
   "metadata": {},
   "outputs": [
    {
     "name": "stdout",
     "output_type": "stream",
     "text": [
      "mv ./convergence_fail_records/15DPI_2.CP_0TS6 ./convergence_fail_records/15DPI_2.CP_0TS6\n",
      "mv ./convergence_fail_records/Lung5_Rep2.gem.txt.cell_type.tumor_9_7PVN ./convergence_fail_records/Lung5_Rep2.gem.txt.cell_type.tumor_9_7PVN\n",
      "mv ./convergence_fail_records/Lung5_Rep2.gem.txt.cell_type.tumor_6_7PVN ./convergence_fail_records/Lung5_Rep2.gem.txt.cell_type.tumor_6_7PVN\n",
      "mv ./convergence_fail_records/Lung5_Rep3.gem.txt.cell_type.tumor_9_2R7L ./convergence_fail_records/Lung5_Rep3.gem.txt.cell_type.tumor_9_2R7L\n",
      "mv ./convergence_fail_records/Lung5_Rep2.gem.txt.cell_type.tumor_13_7PVN ./convergence_fail_records/Lung5_Rep2.gem.txt.cell_type.tumor_13_7PVN\n",
      "mv ./convergence_fail_records/Lung5_Rep3.gem.txt.cell_type.tumor_6_2R7L ./convergence_fail_records/Lung5_Rep3.gem.txt.cell_type.tumor_6_2R7L\n",
      "mv ./convergence_fail_records/Lung12.gem.txt.cell_type.Treg_RRH9 ./convergence_fail_records/Lung12.gem.txt.cell_type.Treg_RRH9\n",
      "mv ./convergence_fail_records/Lung12.gem.txt.cell_type.tumor_6_RRH9 ./convergence_fail_records/Lung12.gem.txt.cell_type.tumor_6_RRH9\n",
      "mv ./convergence_fail_records/Lung5_Rep1.gem.txt.cell_type.tumor_6_ISV2 ./convergence_fail_records/Lung5_Rep1.gem.txt.cell_type.tumor_6_ISV2\n",
      "mv ./convergence_fail_records/Lung12.gem.txt.cell_type.tumor_13_RRH9 ./convergence_fail_records/Lung12.gem.txt.cell_type.tumor_13_RRH9\n",
      "mv ./convergence_fail_records/Lung5_Rep1.gem.txt.cell_type.tumor_9_ISV2 ./convergence_fail_records/Lung5_Rep1.gem.txt.cell_type.tumor_9_ISV2\n",
      "mv ./convergence_fail_records/Lung13.gem.txt.cell_type.tumor_5_Q6PL ./convergence_fail_records/Lung13.gem.txt.cell_type.tumor_5_Q6PL\n",
      "mv ./convergence_fail_records/Lung12.gem.txt.cell_type.T_CD8_memory_RRH9 ./convergence_fail_records/Lung12.gem.txt.cell_type.T_CD8_memory_RRH9\n",
      "mv ./convergence_fail_records/CancerousLiver.gem.csv.cellType.tumor_1_1YQX ./convergence_fail_records/CancerousLiver.gem.csv.cellType.tumor_1_1YQX\n",
      "mv ./convergence_fail_records/NormalLiver.gem.csv.cellType.Hep.4_V3IA ./convergence_fail_records/NormalLiver.gem.csv.cellType.Hep.4_V3IA\n",
      "mv ./convergence_fail_records/NormalLiver.gem.csv.cellType.Hep.5_RU6F ./convergence_fail_records/NormalLiver.gem.csv.cellType.Hep.5_RU6F\n",
      "mv ./convergence_fail_records/NormalLiver.gem.csv.cellType.NotDet_ODVE ./convergence_fail_records/NormalLiver.gem.csv.cellType.NotDet_ODVE\n",
      "mv ./convergence_fail_records/CancerousLiver.gem.csv.cellType.NotDet_NRPQ ./convergence_fail_records/CancerousLiver.gem.csv.cellType.NotDet_NRPQ\n"
     ]
    }
   ],
   "source": [
    "for i, j in convergence_fail_record:\n",
    "    print(\"mv ./\" + i + '/' + j + ' ./convergence_fail_records/' + j)"
   ]
  },
  {
   "cell_type": "code",
   "execution_count": 26,
   "metadata": {},
   "outputs": [],
   "source": [
    "# manually move records to 'convergence_fail_records' folder"
   ]
  }
 ],
 "metadata": {
  "kernelspec": {
   "display_name": "crustdb",
   "language": "python",
   "name": "python3"
  },
  "language_info": {
   "codemirror_mode": {
    "name": "ipython",
    "version": 3
   },
   "file_extension": ".py",
   "mimetype": "text/x-python",
   "name": "python",
   "nbconvert_exporter": "python",
   "pygments_lexer": "ipython3",
   "version": "3.9.-1"
  }
 },
 "nbformat": 4,
 "nbformat_minor": 2
}
